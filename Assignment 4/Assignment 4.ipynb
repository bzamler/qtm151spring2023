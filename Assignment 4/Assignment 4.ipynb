{
 "cells": [
  {
   "attachments": {},
   "cell_type": "markdown",
   "metadata": {},
   "source": [
    "# Assignment 4"
   ]
  },
  {
   "attachments": {},
   "cell_type": "markdown",
   "metadata": {},
   "source": [
    "## Try to submit as an HTML file"
   ]
  },
  {
   "attachments": {},
   "cell_type": "markdown",
   "metadata": {},
   "source": [
    "<font size = \"5\">\n",
    "Print your name below"
   ]
  },
  {
   "cell_type": "code",
   "execution_count": 1,
   "metadata": {},
   "outputs": [
    {
     "name": "stdout",
     "output_type": "stream",
     "text": [
      "Ben Zamler\n"
     ]
    }
   ],
   "source": [
    "print(\"Ben Zamler\")"
   ]
  },
  {
   "attachments": {},
   "cell_type": "markdown",
   "metadata": {},
   "source": [
    "<font size = \"5\">\n",
    "\n",
    "Import the numpy, matplotlib, and pandas packages"
   ]
  },
  {
   "cell_type": "code",
   "execution_count": 2,
   "metadata": {},
   "outputs": [],
   "source": [
    "# Write down your answer here:\n",
    "\n",
    "import numpy as np\n",
    "import matplotlib.pyplot as plt\n",
    "import pandas as pd\n",
    "\n"
   ]
  },
  {
   "attachments": {},
   "cell_type": "markdown",
   "metadata": {},
   "source": [
    "<font size = \"5\">\n",
    "\n",
    "(a) Create a sequence \n",
    "\n",
    "- Create a value $n = 50$\n",
    "- Create a list with the values $0,1,\\ldots, n$\n",
    "- Count the length of the list"
   ]
  },
  {
   "cell_type": "code",
   "execution_count": 38,
   "metadata": {},
   "outputs": [
    {
     "name": "stdout",
     "output_type": "stream",
     "text": [
      "[0, 1, 2, 3, 4, 5, 6, 7, 8, 9, 10, 11, 12, 13, 14, 15, 16, 17, 18, 19, 20, 21, 22, 23, 24, 25, 26, 27, 28, 29, 30, 31, 32, 33, 34, 35, 36, 37, 38, 39, 40, 41, 42, 43, 44, 45, 46, 47, 48, 49, 50]\n",
      "51\n"
     ]
    }
   ],
   "source": [
    "# Write your answer here\n",
    "\n",
    "n= 50\n",
    "list_zero_fifty = list(range(n+1))\n",
    "print(list_zero_fifty)\n",
    "print(len(list_zero_fifty))\n",
    "\n"
   ]
  },
  {
   "attachments": {},
   "cell_type": "markdown",
   "metadata": {},
   "source": [
    "<font size = \"5\">\n",
    "\n",
    "(b) Counting True/False statements in a list\n",
    "\n",
    "- Create\n",
    "list_ages = [18, 20, 13, 15, 20, 35, 8, 7]\n",
    "- Create an empty list \"list_eligible_voter\"\n",
    "- Use a for-loop without numbering\n",
    "    - Determine whether the age is $\\ge 18$\n",
    "    - Store the True/False result in \"list_eligible_voter\"\n",
    "- Use \"np.sum()\" to count how many voters are eligible\n",
    "\n",
    "Hint: Use the \"append\" function."
   ]
  },
  {
   "cell_type": "code",
   "execution_count": 40,
   "metadata": {},
   "outputs": [
    {
     "name": "stdout",
     "output_type": "stream",
     "text": [
      "[True, True, False, False, True, True, False, False]\n"
     ]
    },
    {
     "data": {
      "text/plain": [
       "4"
      ]
     },
     "execution_count": 40,
     "metadata": {},
     "output_type": "execute_result"
    }
   ],
   "source": [
    "# Write your answer here\n",
    "\n",
    "list_ages = [18, 20, 13, 15, 20, 35, 8, 7]\n",
    "list_eligible_voter = []\n",
    "\n",
    "for age in list_ages:\n",
    "    if age >= 18:\n",
    "        list_eligible_voter.append(True)\n",
    "    else:\n",
    "        list_eligible_voter.append(False)\n",
    "\n",
    "print(list_eligible_voter)\n",
    "np.sum(list_eligible_voter)\n",
    "\n",
    "\n"
   ]
  },
  {
   "attachments": {},
   "cell_type": "markdown",
   "metadata": {},
   "source": [
    "<font size = \"5\">\n",
    "\n",
    "(c) Graphs from multiple datasets\n",
    "\n",
    "- Create a list with the two \"WDI\" datasets for 2000, and 2020\n",
    "- Run a for-loop over each dataset \n",
    "    - Compute a histogram of \"prop_urbanpopulation\" for each year\n",
    "    - Label the title with the name of the dataset"
   ]
  },
  {
   "cell_type": "code",
   "execution_count": 72,
   "metadata": {},
   "outputs": [
    {
     "data": {
      "text/plain": [
       "<Figure size 640x480 with 0 Axes>"
      ]
     },
     "metadata": {},
     "output_type": "display_data"
    },
    {
     "data": {
      "image/png": "[encoded data removed]",
      "text/plain": [
       "<Figure size 800x300 with 2 Axes>"
      ]
     },
     "metadata": {},
     "output_type": "display_data"
    }
   ],
   "source": [
    "# Note \"prop_urbanpopulation\" is the percentage of the urban population over\n",
    "# the total population\n",
    "\n",
    "# Hint: Before you write the loop, test your code out by opening an individual dataset\n",
    "# Once you're sure the code works and you're familiar with the data, run the loop\n",
    "\n",
    "# Write your answer here\n",
    "\n",
    "plt.tight_layout() #splits up graph\n",
    "\n",
    "WDI_dataset1 = pd.read_csv(\"wdi_data/wdi_2000.csv\")\n",
    "WDI_dataset2 = pd.read_csv(\"wdi_data/wdi_2020.csv\")\n",
    "\n",
    "fig, list_subfig = plt.subplots(1, 2,figsize = (8,3))\n",
    "\n",
    "list_wdi = [WDI_dataset1, WDI_dataset2]\n",
    "list = [\"Percent population 2000\", \"Percent population 2020\"]\n",
    "\n",
    "index = 0\n",
    "for dataset in list_wdi: \n",
    "    list_subfig[index].hist(list_wdi[index][\"prop_urbanpopulation\"])\n",
    "    list_subfig[index].set_title(list[index])\n",
    "    index = index + 1\n",
    "    \n",
    "\n",
    "\n",
    "\n",
    "    "
   ]
  },
  {
   "attachments": {},
   "cell_type": "markdown",
   "metadata": {},
   "source": [
    "<font size = \"5\">\n",
    "\n",
    "For questions (d) and (e), use the following table:\n",
    "\n",
    "<img src=\"figures/grading_scale.png\" alt=\"drawing\" width=\"700\"/>\n",
    "\n",
    "(d) Loops with multiple lists\n",
    "\n",
    "<font size =\"3\">\n",
    "- Create three lists\n",
    "\n",
    "list_lower = [93, 87, 83, 80, 75, 70, 65, 60, 55, 0]\n",
    "\n",
    "list_upper = [100,92, 86, 82, 79, 74, 69, 64, 59, 54]\n",
    "\n",
    "list_letters = [\"A\",\"A-\",\"B+\",\"B\",\"B-\",\"C+\",\"C\",\"C-\",\"D\",\"F\"]\n",
    "\n",
    "- Create a for loop that prints the message:\n",
    "\n",
    "\"If a students gets a grade between .... and ..., their letter grade is ...\"\n",
    "\n"
   ]
  },
  {
   "cell_type": "code",
   "execution_count": 52,
   "metadata": {},
   "outputs": [
    {
     "name": "stdout",
     "output_type": "stream",
     "text": [
      "If a student gets a grade between 93 and 100, their letter grade is A.\n",
      "If a student gets a grade between 87 and 92, their letter grade is A-.\n",
      "If a student gets a grade between 83 and 86, their letter grade is B+.\n",
      "If a student gets a grade between 80 and 82, their letter grade is B.\n",
      "If a student gets a grade between 75 and 79, their letter grade is B-.\n",
      "If a student gets a grade between 70 and 74, their letter grade is C+.\n",
      "If a student gets a grade between 65 and 69, their letter grade is C.\n",
      "If a student gets a grade between 60 and 64, their letter grade is C-.\n",
      "If a student gets a grade between 55 and 59, their letter grade is D.\n",
      "If a student gets a grade between 0 and 54, their letter grade is F.\n"
     ]
    }
   ],
   "source": [
    "# Hint: Use a for-loop with numbering \n",
    "# Start the index at zero\n",
    "# In the body of the loop, extract the elements in each list by the index position\n",
    "\n",
    "# Write your answer here\n",
    "\n",
    "list_lower = [93,87,83,80,75,70,65,60,55,0]\n",
    "list_upper = [100,92,86,82,79,74,69,64,59,54]\n",
    "list_letters = [ \"A\", \"A-\", \"B+\", \"B\", \"B-\", \"C+\", \"C\", \"C-\", \"D\", \"F\"]\n",
    "\n",
    "index=0\n",
    "for letter in list_letters:\n",
    "    print (\"If a student gets a grade between \" + str(list_lower[index]) + \" and \" +  str(list_upper[index]) +\", their letter grade is \"+  letter + \".\" )\n",
    "    index=index+1\n",
    "\n",
    "\n",
    "\n",
    "\n",
    "\n"
   ]
  },
  {
   "attachments": {},
   "cell_type": "markdown",
   "metadata": {},
   "source": [
    "<font size = \"5\" >\n",
    "\n",
    "(e) Classification with double loops\n",
    "\n",
    "<font size =\"3\">\n",
    "\n",
    "- Suppose that 5 students get the following grades:\n",
    "\n",
    "list_studentgrades = [80, 92, 60, 42, 97]\n",
    "\n",
    "- Print the following message:\n",
    "\n",
    "\"The student got a numeric grade of .... and their letter grade was ...\"\n"
   ]
  },
  {
   "cell_type": "code",
   "execution_count": 1,
   "metadata": {},
   "outputs": [
    {
     "name": "stdout",
     "output_type": "stream",
     "text": [
      "The student got a numeric grade of 80 and their letter grade was B\n",
      "The student got a numeric grade of 92 and their letter grade was A-\n",
      "The student got a numeric grade of 60 and their letter grade was C-\n",
      "The student got a numeric grade of 42 and their letter grade was F\n",
      "The student got a numeric grade of 97 and their letter grade was A\n"
     ]
    },
    {
     "ename": "IndexError",
     "evalue": "list index out of range",
     "output_type": "error",
     "traceback": [
      "\u001b[0;31m---------------------------------------------------------------------------\u001b[0m",
      "\u001b[0;31mIndexError\u001b[0m                                Traceback (most recent call last)",
      "Cell \u001b[0;32mIn[1], line 23\u001b[0m\n\u001b[1;32m     21\u001b[0m index\u001b[39m=\u001b[39m\u001b[39m0\u001b[39m\n\u001b[1;32m     22\u001b[0m \u001b[39mfor\u001b[39;00m letter \u001b[39min\u001b[39;00m list_letters:\n\u001b[0;32m---> 23\u001b[0m     \u001b[39mif\u001b[39;00m list_studentgrades[index]\u001b[39m<\u001b[39m\u001b[39m=\u001b[39mlist_upper[\u001b[39m0\u001b[39m] \u001b[39mand\u001b[39;00m list_studentgrades[index]\u001b[39m>\u001b[39m\u001b[39m=\u001b[39mlist_lower[\u001b[39m0\u001b[39m]:\n\u001b[1;32m     24\u001b[0m         \u001b[39mprint\u001b[39m(\u001b[39m\"\u001b[39m\u001b[39mThe student got a numeric grade of \u001b[39m\u001b[39m\"\u001b[39m \u001b[39m+\u001b[39m \u001b[39mstr\u001b[39m(list_studentgrades[index]) \u001b[39m+\u001b[39m \u001b[39m\"\u001b[39m\u001b[39m and their letter grade was \u001b[39m\u001b[39m\"\u001b[39m \u001b[39m+\u001b[39m \u001b[39mstr\u001b[39m(list_letters[\u001b[39m0\u001b[39m]))\n\u001b[1;32m     25\u001b[0m     \u001b[39melif\u001b[39;00m list_studentgrades[index]\u001b[39m<\u001b[39m\u001b[39m=\u001b[39mlist_upper[\u001b[39m1\u001b[39m] \u001b[39mand\u001b[39;00m list_studentgrades[index]\u001b[39m>\u001b[39m\u001b[39m=\u001b[39mlist_lower[\u001b[39m1\u001b[39m]:\n",
      "\u001b[0;31mIndexError\u001b[0m: list index out of range"
     ]
    }
   ],
   "source": [
    "#(a) Hint: Use a double for loop structure:\n",
    "#---- for studentgrade in list_studentgrades:\n",
    "#----     index = 0\n",
    "#----     for letter in list_letters:\n",
    "#----          Body\n",
    "#----          index = index + 1\n",
    "\n",
    "# (b) Inside the body, use an if/else statement to print the correct letter grade.\n",
    "# You can make your code more concise by doing similar steps to question (d).\n",
    "\n",
    "# Write your answer here:\n",
    "\n",
    "list_studentgrades = [80,92,60,42,97]\n",
    "list_letters = [ \"A\", \"A-\", \"B+\", \"B\", \"B-\", \"C+\", \"C\", \"C-\", \"D\", \"F\"]\n",
    "\n",
    "list_lower = [93,87,83,80,75,70,65,60,55,0]\n",
    "list_upper = [100,92,86,82,79,74,69,64,59,54]\n",
    "    \n",
    "\n",
    "for studentgrade in list_studentgrades:\n",
    "    index=0\n",
    "    for letter in list_letters:\n",
    "        if list_studentgrades[index]<=list_upper[0] and list_studentgrades[index]>=list_lower[0]:\n",
    "            print(\"The student got a numeric grade of \" + str(list_studentgrades[index]) + \" and their letter grade was \" + str(list_letters[0]))\n",
    "        elif list_studentgrades[index]<=list_upper[1] and list_studentgrades[index]>=list_lower[1]:\n",
    "            print(\"The student got a numeric grade of \" + str(list_studentgrades[index]) + \" and their letter grade was \" + str(list_letters[1]))\n",
    "        elif list_studentgrades[index]<=list_upper[2] and list_studentgrades[index]>=list_lower[2]:\n",
    "            print(\"The student got a numeric grade of \" + str(list_studentgrades[index]) + \" and their letter grade was \" + str(list_letters[2]))\n",
    "        elif list_studentgrades[index]<=list_upper[3] and list_studentgrades[index]>=list_lower[3]:\n",
    "            print(\"The student got a numeric grade of \" + str(list_studentgrades[index]) + \" and their letter grade was \" + str(list_letters[3]))\n",
    "        elif list_studentgrades[index]<=list_upper[4] and list_studentgrades[index]>=list_lower[4]:\n",
    "            print(\"The student got a numeric grade of \" + str(list_studentgrades[index]) + \" and their letter grade was \" + str(list_letters[4]))\n",
    "        elif list_studentgrades[index]<=list_upper[5] and list_studentgrades[index]>=list_lower[5]:\n",
    "            print(\"The student got a numeric grade of \" + str(list_studentgrades[index]) + \" and their letter grade was \" + str(list_letters[5]))\n",
    "        elif list_studentgrades[index]<=list_upper[6] and list_studentgrades[index]>=list_lower[6]:\n",
    "            print(\"The student got a numeric grade of \" + str(list_studentgrades[index]) + \" and their letter grade was \" + str(list_letters[6]))\n",
    "        elif list_studentgrades[index]<=list_upper[2] and list_studentgrades[index]>=list_lower[2]:\n",
    "            print(\"The student got a numeric grade of \" + str(list_studentgrades[index]) + \" and their letter grade was \" + str(list_letters[2]))\n",
    "        elif list_studentgrades[index]<=list_upper[7] and list_studentgrades[index]>=list_lower[7]:\n",
    "            print(\"The student got a numeric grade of \" + str(list_studentgrades[index]) + \" and their letter grade was \" + str(list_letters[7]))\n",
    "        elif list_studentgrades[index]<=list_upper[8] and list_studentgrades[index]>=list_lower[8]:\n",
    "            print(\"The student got a numeric grade of \" + str(list_studentgrades[index]) + \" and their letter grade was \" + str(list_letters[8]))\n",
    "        else:\n",
    "            print(\"The student got a numeric grade of \" + str(list_studentgrades[index]) + \" and their letter grade was \" + str(list_letters[9]))\n",
    "        index=index+1 \n",
    "\n",
    "\n",
    "\n"
   ]
  },
  {
   "cell_type": "code",
   "execution_count": null,
   "metadata": {},
   "outputs": [],
   "source": []
  }
 ],
 "metadata": {
  "kernelspec": {
   "display_name": "Python 3",
   "language": "python",
   "name": "python3"
  },
  "language_info": {
   "codemirror_mode": {
    "name": "ipython",
    "version": 3
   },
   "file_extension": ".py",
   "mimetype": "text/x-python",
   "name": "python",
   "nbconvert_exporter": "python",
   "pygments_lexer": "ipython3",
   "version": "3.11.1"
  },
  "orig_nbformat": 4,
  "vscode": {
   "interpreter": {
    "hash": "aee8b7b246df8f9039afb4144a1f6fd8d2ca17a180786b69acc140d282b71a49"
   }
  }
 },
 "nbformat": 4,
 "nbformat_minor": 2
}
