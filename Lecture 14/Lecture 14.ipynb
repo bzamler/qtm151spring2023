{
 "cells": [
  {
   "attachments": {},
   "cell_type": "markdown",
   "metadata": {},
   "source": [
    "# <span style=\"color:darkblue\"> Lecture 14 - Aggregating Data </span>\n",
    "\n",
    "<font size = \"5\">\n",
    "\n",
    "In the previous class we covered\n",
    "\n",
    "- Missing values\n",
    "- The basics of data cleaning\n",
    "\n",
    "This class we will talk about \n",
    "- Computing aggregate statistics by group\n",
    "- Introduction to merging"
   ]
  },
  {
   "attachments": {},
   "cell_type": "markdown",
   "metadata": {},
   "source": [
    "# <span style=\"color:darkblue\"> I. Import Libraries and Data </span>\n"
   ]
  },
  {
   "attachments": {},
   "cell_type": "markdown",
   "metadata": {},
   "source": [
    "<font size = \"5\">\n",
    "Key libraries"
   ]
  },
  {
   "cell_type": "code",
   "execution_count": 1,
   "metadata": {},
   "outputs": [],
   "source": [
    "import numpy as np\n",
    "import pandas as pd\n",
    "import matplotlib.pyplot as plt"
   ]
  },
  {
   "attachments": {},
   "cell_type": "markdown",
   "metadata": {},
   "source": [
    "<font size = \"5\">\n",
    "\n",
    "Read dataset on car racing circuits\n",
    "\n",
    "- https://en.wikipedia.org/wiki/Formula_One <br>\n",
    "- [See Data Source](https://www.kaggle.com/datasets/rohanrao/formula-1-world-championship-1950-2020)"
   ]
  },
  {
   "cell_type": "code",
   "execution_count": 2,
   "metadata": {},
   "outputs": [],
   "source": [
    "results = pd.read_csv(\"data_raw/results.csv\")"
   ]
  },
  {
   "attachments": {},
   "cell_type": "markdown",
   "metadata": {},
   "source": [
    "<font size = \"5\">\n",
    "\n",
    "The dataset \"codebook\" is a table with ...\n",
    "\n",
    "- Key column information\n",
    "- Main things:  Field, Type, Key, and Description\n",
    "\n",
    "<img src=\"figures/codebook_races.png\" alt=\"drawing\" width=\"600\"/>\n"
   ]
  },
  {
   "cell_type": "code",
   "execution_count": null,
   "metadata": {},
   "outputs": [],
   "source": [
    "# The codebook contains basic about the columns\n",
    "# \"Field\" is the name given to the name of the column\n",
    "# \"Type\"  is the variable type:\n",
    "#         integer (int)\n",
    "#         string (varchar - \"variable character\")\n",
    "#         float (float)\n",
    "#         The number in parenthesis is the maximum number of characters/digits\n",
    "#         For most purposes we can ignore the numbers in parentheses.\n",
    "# \"Key\" denotes whether this is the primary key \"PRI\" (also known as the identifier)\n",
    "#         This is a column with unique values, that uniquely identifies each row\n",
    "# \"Description\" contains a label with the content of the variable"
   ]
  },
  {
   "attachments": {},
   "cell_type": "markdown",
   "metadata": {},
   "source": [
    "<font size = \"5\">\n",
    "\n",
    "Get column names + types\n",
    "\n",
    "- Do types match the codebook?\n",
    "- If not the data may need to be cleaned"
   ]
  },
  {
   "cell_type": "code",
   "execution_count": 3,
   "metadata": {},
   "outputs": [
    {
     "data": {
      "text/plain": [
       "resultId             int64\n",
       "raceId               int64\n",
       "driverId             int64\n",
       "constructorId        int64\n",
       "number              object\n",
       "grid                 int64\n",
       "position            object\n",
       "positionText        object\n",
       "positionOrder        int64\n",
       "points             float64\n",
       "laps                 int64\n",
       "time                object\n",
       "milliseconds        object\n",
       "fastestLap          object\n",
       "rank                object\n",
       "fastestLapTime      object\n",
       "fastestLapSpeed     object\n",
       "statusId             int64\n",
       "dtype: object"
      ]
     },
     "execution_count": 3,
     "metadata": {},
     "output_type": "execute_result"
    }
   ],
   "source": [
    "# This code displays column types\n",
    "# \"int\" or \"float\" objects are numneric\n",
    "# \"object\" typically denotes strings\n",
    "# If a column that's supposed to be \"numeric\" but appears as \"object\"\n",
    "# then it needs to be cleaned and converted to numeric \n",
    "\n",
    "results.dtypes\n"
   ]
  },
  {
   "attachments": {},
   "cell_type": "markdown",
   "metadata": {},
   "source": [
    "<font size = \"5\">\n",
    "\n",
    "Try it yourself!\n",
    "\n",
    "- How many rows does the dataset have?\n",
    "- How many unique values are there for the columns <br>\n",
    "$\\qquad$ \"resultId\"? <br>\n",
    "$\\qquad$ \"raceId\"? <br>\n",
    "$\\qquad$ \"driverId\"? <br>\n",
    "\n",
    "HINT: Use the \"len()\" and the \"pd.unique()\" functions"
   ]
  },
  {
   "cell_type": "code",
   "execution_count": 4,
   "metadata": {},
   "outputs": [
    {
     "name": "stdout",
     "output_type": "stream",
     "text": [
      "25840\n",
<<<<<<< HEAD
=======
      "25840\n",
>>>>>>> upstream/main
      "1079\n",
      "855\n"
     ]
    }
   ],
   "source": [
    "# Write your own code here\n",
    "\n",
<<<<<<< HEAD
    "len(results)\n",
    "print(len(pd.unique(results[\"resultId\"])))\n",
    "print(len(pd.unique(results[\"raceId\"])))\n",
    "print(len(pd.unique(results[\"driverId\"])))\n",
    "\n"
=======
    "print(len(results))\n",
    "print(len(pd.unique(results[\"resultId\"])))\n",
    "print(len(pd.unique(results[\"raceId\"])))\n",
    "print(len(pd.unique(results[\"driverId\"])))\n"
>>>>>>> upstream/main
   ]
  },
  {
   "attachments": {},
   "cell_type": "markdown",
   "metadata": {},
   "source": [
    "# <span style=\"color:darkblue\"> II. Aggregate + groupby  </span>\n",
    "\n"
   ]
  },
  {
   "attachments": {},
   "cell_type": "markdown",
   "metadata": {},
   "source": [
    "<font size = \"5\">\n",
    "\n",
    "Splitting code into multiple lines\n",
    "\n",
    "- Makes it easier to read\n",
    "- Simply wrap the code in round parentheses \"()\""
   ]
  },
  {
   "cell_type": "code",
<<<<<<< HEAD
   "execution_count": 5,
=======
   "execution_count": null,
>>>>>>> upstream/main
   "metadata": {},
   "outputs": [],
   "source": [
    "# The following code computes descriptive statistics for points \n",
    "# Wrapping the code in parentheses \"()\" allows you to split it into multiple \n",
    "# lines. It's considered good practice to make each line less than 80 characters\n",
    "# This makes it easier to scroll up and down without going sideways.\n",
    "\n",
    "descriptives_singleline = results[\"points\"].describe()\n",
    "descriptives_multiline = (results[\"points\"]\n",
    "                          .describe())"
   ]
  },
  {
   "attachments": {},
   "cell_type": "markdown",
   "metadata": {},
   "source": [
    "<font size = \"5\">\n",
    "\n",
    "Aggregate statistics "
   ]
  },
  {
   "cell_type": "code",
   "execution_count": 6,
   "metadata": {},
   "outputs": [
    {
     "data": {
      "text/html": [
       "<div>\n",
       "<style scoped>\n",
       "    .dataframe tbody tr th:only-of-type {\n",
       "        vertical-align: middle;\n",
       "    }\n",
       "\n",
       "    .dataframe tbody tr th {\n",
       "        vertical-align: top;\n",
       "    }\n",
       "\n",
       "    .dataframe thead th {\n",
       "        text-align: right;\n",
       "    }\n",
       "</style>\n",
       "<table border=\"1\" class=\"dataframe\">\n",
       "  <thead>\n",
       "    <tr style=\"text-align: right;\">\n",
       "      <th></th>\n",
       "      <th>points</th>\n",
       "    </tr>\n",
       "  </thead>\n",
       "  <tbody>\n",
       "    <tr>\n",
       "      <th>mean_points</th>\n",
       "      <td>1.877053</td>\n",
       "    </tr>\n",
       "    <tr>\n",
       "      <th>sd_points</th>\n",
       "      <td>4.169849</td>\n",
       "    </tr>\n",
       "    <tr>\n",
       "      <th>min_points</th>\n",
       "      <td>0.000000</td>\n",
       "    </tr>\n",
       "    <tr>\n",
       "      <th>max_points</th>\n",
       "      <td>50.000000</td>\n",
       "    </tr>\n",
       "    <tr>\n",
       "      <th>count_obs</th>\n",
       "      <td>25840.000000</td>\n",
       "    </tr>\n",
       "  </tbody>\n",
       "</table>\n",
       "</div>"
      ],
      "text/plain": [
       "                   points\n",
       "mean_points      1.877053\n",
       "sd_points        4.169849\n",
       "min_points       0.000000\n",
       "max_points      50.000000\n",
       "count_obs    25840.000000"
      ]
     },
     "metadata": {},
     "output_type": "display_data"
    }
   ],
   "source": [
    "# The \".agg()\" subfunction computes aggregate statistics\n",
    "# The syntax is (\"column_name\",\"function_name\")\n",
    "# The first argument is the column name\n",
    "# The second argument is the function_name\n",
    "# The command works with single quotations '...' or double \"...\"\n",
    "\n",
    "results_agg = results.agg(mean_points = ('points','mean'),\n",
    "                          sd_points =   ('points','std'),\n",
    "                          min_points =  ('points','min'),\n",
    "                          max_points =  ('points','max'),\n",
    "                          count_obs   = ('points',len))\n",
    "\n",
    "display(results_agg)"
   ]
  },
  {
   "attachments": {},
   "cell_type": "markdown",
   "metadata": {},
   "source": [
    "<font size = \"5\" >\n",
    "\n",
    "Groupby + Aggregate statistics\n",
    "\n",
    "<img src=\"figures/agg.png\" alt=\"drawing\" width=\"400\"/>"
   ]
  },
  {
   "cell_type": "code",
   "execution_count": 7,
   "metadata": {},
   "outputs": [
    {
     "data": {
      "text/plain": [
       "855"
      ]
     },
     "execution_count": 7,
     "metadata": {},
     "output_type": "execute_result"
    }
   ],
   "source": [
    "# In this cases drivers engage in multiple car races\n",
    "# We can compute the aggregate statistics for each specific driver across\n",
    "# multiple car races\n",
    "\n",
    "drivers_agg = (results.groupby(\"driverId\")\n",
    "                      .agg(mean_points = ('points','mean'),\n",
    "                           sd_points =   ('points','std'),\n",
    "                           min_points =  ('points','min'),\n",
    "                           max_points =  ('points','max'),\n",
    "                           count_obs   = ('points',len)))\n",
    "\n",
    "len(drivers_agg)"
   ]
  },
  {
   "attachments": {},
   "cell_type": "markdown",
   "metadata": {},
   "source": [
    "<font size = \"5\" >\n",
    "Groupby + Aggregate statistics (multigroup)"
   ]
  },
  {
   "cell_type": "code",
   "execution_count": 10,
   "metadata": {},
   "outputs": [
    {
     "data": {
      "text/plain": [
       "12568"
      ]
     },
     "execution_count": 10,
     "metadata": {},
     "output_type": "execute_result"
    }
   ],
   "source": [
    "# We can aggregate statistics from multiple columns by\n",
    "# entering a list of column names in \"groupby\"\n",
    "# In this case \"constructor\" in this case denotes the team \n",
    "# The following computes aggregate point stats for each (team, race) combination\n",
    "\n",
    "teamrace_agg = (results.groupby([\"raceId\",\"constructorId\"])\n",
    "                       .agg(mean_points = ('points','mean'),\n",
    "                            sd_points =   ('points','std'),\n",
    "                            min_points =  ('points','min'),\n",
    "                            max_points =  ('points','max'),\n",
    "                            count_obs   = ('points',len)))\n",
    "\n",
    "len(teamrace_agg)"
   ]
  },
  {
   "attachments": {},
   "cell_type": "markdown",
   "metadata": {},
   "source": [
    "<font size = \"5\">\n",
    "\n",
    "Filtering + Grouping + Aggregating: <br>\n",
    "\n",
    "```python \n",
    ".query().groupby().agg()\n",
    "```\n",
    "\n",
    "- This sequential syntax is known as \"chaining\"\n"
   ]
  },
  {
   "cell_type": "code",
<<<<<<< HEAD
   "execution_count": 12,
=======
   "execution_count": 11,
>>>>>>> upstream/main
   "metadata": {},
   "outputs": [
    {
     "data": {
      "text/plain": [
       "6055"
      ]
     },
     "execution_count": 12,
     "metadata": {},
     "output_type": "execute_result"
    }
   ],
   "source": [
    "# The following gets a subset of the data using .query()\n",
    "# In this case we subset the data before computing aggregate statistics\n",
    "# Note: \"filtering\" is often the word used to obtain a subset\n",
    "\n",
    "teamrace_agg = (results.query(\"raceId >= 500\")\n",
    "                       .groupby([\"raceId\",\"constructorId\"])\n",
    "                        .agg(mean_points = ('points','mean'),\n",
    "                             sd_points =   ('points','std'),\n",
    "                             min_points =  ('points','min'),\n",
    "                             max_points =  ('points','max'),\n",
    "                             count_obs   = ('points',len)))\n",
    "len(teamrace_agg)\n"
   ]
  },
  {
   "attachments": {},
   "cell_type": "markdown",
   "metadata": {},
   "source": [
    "<font size = \"5\">\n",
    "\n",
    "Try it yourself!\n",
    "\n",
    "- Create a new dataset by chaining that <br>\n",
    "groups by \"raceId\" then computes the <br>\n",
    "aggregate statistics: \"points\" average <br> and \"laps\" average\n"
   ]
  },
  {
   "cell_type": "code",
<<<<<<< HEAD
   "execution_count": 18,
=======
   "execution_count": 13,
>>>>>>> upstream/main
   "metadata": {},
   "outputs": [
    {
     "data": {
      "text/plain": [
       "1079"
      ]
     },
<<<<<<< HEAD
     "execution_count": 18,
=======
     "execution_count": 13,
>>>>>>> upstream/main
     "metadata": {},
     "output_type": "execute_result"
    }
   ],
   "source": [
    "# Write your own code\n",
    "pointslaps_agg = (results.groupby(\"raceId\")\n",
    "                         .agg(mean_points = (\"points\",\"mean\"),\n",
    "                              mean_laps = (\"laps\", \"mean\")))\n",
    "\n",
<<<<<<< HEAD
    "len(pointslaps_agg)\n",
    "\n"
=======
    "pointslaps_agg = (results.groupby(\"raceId\")\n",
    "                         .agg(mean_points = (\"points\",\"mean\"),\n",
    "                              mean_laps = (\"laps\",\"mean\")))\n",
    "\n",
    "len(pointslaps_agg)"
>>>>>>> upstream/main
   ]
  },
  {
   "attachments": {},
   "cell_type": "markdown",
   "metadata": {},
   "source": [
    "<font size = \"5\">\n",
    "\n",
    "Try it yourself!\n",
    "\n",
    "- Create a new dataset by chaining that <br>\n",
    "groups by \"constructorId\" (the team) then <br> \n",
    "computes the average number of \"points\"\n",
    "- Add a chain \".sort_values(...,ascending = False)\" <br>\n",
    "to sort by team points in desceding order\n"
   ]
  },
  {
   "cell_type": "code",
<<<<<<< HEAD
   "execution_count": 14,
=======
   "execution_count": 18,
>>>>>>> upstream/main
   "metadata": {},
   "outputs": [
    {
     "data": {
      "text/html": [
       "<div>\n",
       "<style scoped>\n",
       "    .dataframe tbody tr th:only-of-type {\n",
       "        vertical-align: middle;\n",
       "    }\n",
       "\n",
       "    .dataframe tbody tr th {\n",
       "        vertical-align: top;\n",
       "    }\n",
       "\n",
       "    .dataframe thead th {\n",
       "        text-align: right;\n",
       "    }\n",
       "</style>\n",
       "<table border=\"1\" class=\"dataframe\">\n",
       "  <thead>\n",
       "    <tr style=\"text-align: right;\">\n",
       "      <th></th>\n",
       "      <th>mean_points</th>\n",
       "    </tr>\n",
       "    <tr>\n",
       "      <th>constructorId</th>\n",
       "      <th></th>\n",
       "    </tr>\n",
       "  </thead>\n",
       "  <tbody>\n",
       "    <tr>\n",
       "      <th>131</th>\n",
       "      <td>12.363643</td>\n",
       "    </tr>\n",
       "    <tr>\n",
       "      <th>9</th>\n",
       "      <td>9.117816</td>\n",
       "    </tr>\n",
       "    <tr>\n",
       "      <th>23</th>\n",
       "      <td>5.058824</td>\n",
       "    </tr>\n",
       "    <tr>\n",
       "      <th>208</th>\n",
       "      <td>4.584416</td>\n",
       "    </tr>\n",
       "    <tr>\n",
       "      <th>6</th>\n",
       "      <td>4.317968</td>\n",
       "    </tr>\n",
       "    <tr>\n",
       "      <th>...</th>\n",
       "      <td>...</td>\n",
       "    </tr>\n",
       "    <tr>\n",
       "      <th>76</th>\n",
       "      <td>0.000000</td>\n",
       "    </tr>\n",
       "    <tr>\n",
       "      <th>77</th>\n",
       "      <td>0.000000</td>\n",
       "    </tr>\n",
       "    <tr>\n",
       "      <th>78</th>\n",
       "      <td>0.000000</td>\n",
       "    </tr>\n",
       "    <tr>\n",
       "      <th>130</th>\n",
       "      <td>0.000000</td>\n",
       "    </tr>\n",
       "    <tr>\n",
       "      <th>112</th>\n",
       "      <td>0.000000</td>\n",
       "    </tr>\n",
       "  </tbody>\n",
       "</table>\n",
       "<p>210 rows × 1 columns</p>\n",
       "</div>"
      ],
      "text/plain": [
       "               mean_points\n",
       "constructorId             \n",
       "131              12.363643\n",
       "9                 9.117816\n",
       "23                5.058824\n",
       "208               4.584416\n",
       "6                 4.317968\n",
       "...                    ...\n",
       "76                0.000000\n",
       "77                0.000000\n",
       "78                0.000000\n",
       "130               0.000000\n",
       "112               0.000000\n",
       "\n",
       "[210 rows x 1 columns]"
      ]
     },
     "execution_count": 18,
     "metadata": {},
     "output_type": "execute_result"
    }
   ],
   "source": [
    "# Write your own code\n",
    "\n",
    "constructor_agg = (results.groupby(\"constructorId\")\n",
<<<<<<< HEAD
    "                        .agg\n",
    "\n"
=======
    "                          .agg(mean_points = (\"points\",\"mean\"))\n",
    "                          .sort_values(\"mean_points\",ascending = False))\n",
    "\n",
    "\n",
    "constructor_agg\n"
>>>>>>> upstream/main
   ]
  },
  {
   "attachments": {},
   "cell_type": "markdown",
   "metadata": {},
   "source": [
    "# <span style=\"color:darkblue\"> III. Relative statistics within group </span>\n",
    "\n"
   ]
  },
  {
   "attachments": {},
   "cell_type": "markdown",
   "metadata": {},
   "source": [
    "<font size = \"5\">\n",
    "\n",
    "Merging\n",
    "\n",
    "<img src=\"figures/merge_stats.png\" alt=\"drawing\" width=\"600\"/>\n"
   ]
  },
  {
   "cell_type": "code",
<<<<<<< HEAD
   "execution_count": 15,
=======
   "execution_count": 19,
>>>>>>> upstream/main
   "metadata": {},
   "outputs": [],
   "source": [
    "# This command merges the \"aggregate\" information in \"driver_agg\" into\n",
    "# \"results\" as shown in the figure\n",
    "# The merging variable \"on\" is determined by \"driverId\", which is a column\n",
    "# that is common to both datasets\n",
    "# \"how = left\" indicates that the left dataset is the baseline\n",
    "#\n",
    "# Note: For this method to work well \"driverId\" needs to contain unique alues\n",
    "# in \"drivers_agg\". If not you may need to clean the data beforehand\n",
    "\n",
    "results_merge = pd.merge(results,\n",
    "                         drivers_agg,\n",
    "                         on = \"driverId\",\n",
    "                         how = \"left\")\n",
    "\n"
   ]
  },
  {
   "attachments": {},
   "cell_type": "markdown",
   "metadata": {},
   "source": [
    "<font size = \"5\">\n",
    "\n",
    "Check out another approach to compute <br>\n",
    "aggregate statistics using ``` .transform() ```<br>\n",
    " in the optional lecture!"
   ]
  },
  {
   "attachments": {},
   "cell_type": "markdown",
   "metadata": {},
   "source": [
    "<font size = \"5\">\n",
    "\n",
    "Try it yourself!\n",
    "\n",
    "- Compute a scatter plot with ...\n",
    "- \"points\" (y-axis) vs \"mean_points\" (x-axis)\n",
    "\n",
    "Note: This plots tells you how much a driver's <br>\n",
    "performance on individual races deviates from <br>\n",
    "their overall average"
   ]
  },
  {
   "cell_type": "code",
<<<<<<< HEAD
   "execution_count": 19,
=======
   "execution_count": 21,
>>>>>>> upstream/main
   "metadata": {},
   "outputs": [
    {
     "data": {
      "text/plain": [
       "Text(0.5, 0, 'Average points per driver')"
      ]
     },
<<<<<<< HEAD
     "execution_count": 19,
=======
     "execution_count": 21,
>>>>>>> upstream/main
     "metadata": {},
     "output_type": "execute_result"
    },
    {
     "data": {
<<<<<<< HEAD
      "image/png": "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",
=======
      "image/png": "iVBORw0KGgoAAAANSUhEUgAAAjMAAAGwCAYAAABcnuQpAAAAOXRFWHRTb2Z0d2FyZQBNYXRwbG90bGliIHZlcnNpb24zLjUuMiwgaHR0cHM6Ly9tYXRwbG90bGliLm9yZy8qNh9FAAAACXBIWXMAAA9hAAAPYQGoP6dpAABlGklEQVR4nO3deXxTdfY//le6pXugQJsWCq2yWRGUVXZciiyi6MxHkf2HorgB6qjg8gF1BMTvICqKwoioDIPzGcUBBaSKFBCQSq2AZQS0ZbO1QKFp6Z68f390kmnaLDfJTe696ev5ePShTU7uPTf3kpzee9/voxNCCBARERFpVIjSCRARERH5gsUMERERaRqLGSIiItI0FjNERESkaSxmiIiISNNYzBAREZGmsZghIiIiTQtTOgF/s1gs+O233xAXFwedTqd0OkRERCSBEALl5eVISUlBSIjrcy9BX8z89ttvSE1NVToNIiIi8sLp06fRoUMHlzFBX8zExcUBaHgz4uPjFc6GiIiIpDCZTEhNTbV9j7sS9MWM9dJSfHw8ixkiIiKNkXKLCG8AJiIiIk1jMUNERESaxmKGiIiINI3FDBEREWkaixkiIiLSNBYzREREpGksZoiIiEjTWMwQERGRprGYISIiIk0L+hmAiYiISH5mi8CBglKUlFcjMS4S/dMTEBqiTENnRc/MLFy4EDqdzu7HaDTanhdCYOHChUhJSUFUVBRGjBiBn376ScGMiYiIaNuRIgx5ZQfuWb0fczbk4Z7V+zHklR3YdqRIkXwUv8x09dVXo6ioyPZz+PBh23NLly7FsmXLsGLFCuTk5MBoNCIzMxPl5eUKZkxERNRybTtShAfX5aKorNru8eKyajy4LleRgkbxYiYsLAxGo9H2065dOwANZ2WWL1+OZ599FnfeeSd69OiBDz74AJWVlVi/fr3CWRMREbU8ZovAC5vzIRw8Z33shc35MFscRfiP4sXM8ePHkZKSgvT0dEyYMAG//vorAKCgoADFxcUYOXKkLVav12P48OHYu3ev0+XV1NTAZDLZ/RAREZHvDhSUNjsj05gAUFRWjQMFpYFLCgoXMwMGDMCHH36IL7/8EqtXr0ZxcTEGDRqECxcuoLi4GACQlJRk95qkpCTbc44sXrwYBoPB9pOamurXbSAiImopSsqdFzLexMlF0WJm9OjR+MMf/oBrrrkGN998M7744gsAwAcffGCL0ens74wWQjR7rLH58+ejrKzM9nP69Gn/JE9ERNTCJMZFyhonF8UvMzUWExODa665BsePH7eNamp6FqakpKTZ2ZrG9Ho94uPj7X6IiIjId/3TE5BsiISzUwo6AMmGhmHagaSqYqampgZHjx5FcnIy0tPTYTQakZWVZXu+trYW2dnZGDRokIJZEhERtUyhITosGJcBAM0KGuvvC8ZlBHy+GUWLmT/96U/Izs5GQUEBvvvuO/zxj3+EyWTCtGnToNPpMHfuXCxatAgbN27EkSNHMH36dERHR2PixIlKpk1ERNRijeqRjJWTe8NosL+UZDREYuXk3hjVIzngOSk6A/CZM2dwzz334Pz582jXrh2uv/567N+/H506dQIAPPXUU6iqqsJDDz2EixcvYsCAAdi+fTvi4uKUTJuIiKhFG9UjGZkZRtXMAKwTQgR2MHiAmUwmGAwGlJWV8f4ZIiIijfDk+1tV98wQEREReYrFDBEREWkaixkiIiLSNBYzREREpGksZoiIiEjTWMwQERGRprGYISIiIk1jMUNERESaxmKGiIiINI3FDBEREWkaixkiIiLSNBYzREREpGksZoiIiEjTWMwQERGRprGYISIiIk1jMUNERESaxmKGiIiINI3FDBEREWkaixkiIiLSNBYzREREpGksZoiIiEjTWMwQERGRprGYISIiIk1jMUNERESaxmKGiIiINI3FDBEREWkaixkiIiLSNBYzREREpGksZoiIiEjTWMwQERGRprGYISIiIk1jMUNERESaxmKGiIiINI3FDBEREWkaixkiIiLSNBYzREREpGksZoiIiEjTWMwQERGRprGYISIiIk1jMUNERESaxmKGiIiINI3FDBEREWkaixkiIiLSNBYzREREpGksZoiIiEjTWMwQERGRprGYISIiIk1jMUNERESaxmKGiIiINI3FDBEREWkaixkiIiLSNBYzREREpGksZoiIiEjTWMwQERGRprGYISIiIk1jMUNERESaxmKGiIiINE01xczixYuh0+kwd+5c22NCCCxcuBApKSmIiorCiBEj8NNPPymXJBEREamOKoqZnJwcrFq1Cj179rR7fOnSpVi2bBlWrFiBnJwcGI1GZGZmory8XKFMiYiISG0UL2YqKiowadIkrF69Gq1bt7Y9LoTA8uXL8eyzz+LOO+9Ejx498MEHH6CyshLr1693uryamhqYTCa7HyIiIgpeihczDz/8MMaOHYubb77Z7vGCggIUFxdj5MiRtsf0ej2GDx+OvXv3Ol3e4sWLYTAYbD+pqal+y52IiIiUp2gxs2HDBuTm5mLx4sXNnisuLgYAJCUl2T2elJRke86R+fPno6yszPZz+vRpeZMmIiIiVQlTasWnT5/GnDlzsH37dkRGRjqN0+l0dr8LIZo91pher4der5ctTyIiIlI3xc7MHDx4ECUlJejTpw/CwsIQFhaG7OxsvPHGGwgLC7OdkWl6FqakpKTZ2RoiIiJquRQrZm666SYcPnwYeXl5tp++ffti0qRJyMvLwxVXXAGj0YisrCzba2pra5GdnY1BgwYplTYRERGpjGKXmeLi4tCjRw+7x2JiYtCmTRvb43PnzsWiRYvQpUsXdOnSBYsWLUJ0dDQmTpyoRMpERESkQooVM1I89dRTqKqqwkMPPYSLFy9iwIAB2L59O+Li4pROjYiIiFRCJ4QQSifhTyaTCQaDAWVlZYiPj1c6HSIiIpLAk+9vxeeZISIiIvIFixkiIiLSNBYzREREpGksZoiIiEjTWMwQERGRprGYISIiIk1jMUNERESaxmKGiIiINI3FDBEREWkaixkiIiLSNBYzREREpGksZoiIiEjTWMwQERGRprGYISIiIk0LUzoBomBktggcKChFSXk1EuMi0T89AaEhOqXTIiIKSixmiGS27UgRXticj6KyattjyYZILBiXgVE9khXMjIgoOPEyE5GMth0pwoPrcu0KGQAoLqvGg+tyse1IkUKZEREFLxYzRDIxWwRe2JwP4eA562MvbM6H2eIogoiIvMVihkgmBwpKm52RaUwAKCqrxoGC0sAlRUTUArCYIZJJSbnzQsabOCIikobFDJFMEuMiZY0jIiJpWMwQyaR/egKSDZFwNgBbh4ZRTf3TEwKZFhFR0GMxQyST0BAdFozLAIBmBY319wXjMjjfDBGRzFjMEMloVI9krJzcG0aD/aUkoyESKyf35jwzRER+wEnziGQ2qkcyMjOMnAGYiChAWMwQ+UFoiA4Dr2yjdBpERC0CLzMRERGRprGYISIiIk1jMUNERESaxmKGiIiINI3FDBEREWkaixkiIiLSNBYzREREpGksZoiIiEjTWMwQERGRprGYISIiIk1jMUNERESaxmKGiIiINI3FDBEREWkaixkiIiLSNBYzREREpGksZoiIiEjTWMwQERGRprGYISIiIk1jMUNERESaxmKGiIiINI3FDBEREWkaixkiIiLSNBYzREREpGksZoiIiEjTWMwQERGRprGYISIiIk1jMUNERESaxmKGiIiINC1M6QSIiKg5s0XgQEEpSsqrkRgXif7pCQgN0SmdFpEqsZghIlKZbUeK8MLmfBSVVdseSzZEYsG4DIzqkaxgZkTqpOhlppUrV6Jnz56Ij49HfHw8Bg4ciK1bt9qeF0Jg4cKFSElJQVRUFEaMGIGffvpJwYyJiPxr25EiPLgu166QAYDismo8uC4X244UKZQZkXopWsx06NABS5Yswffff4/vv/8eN954I26//XZbwbJ06VIsW7YMK1asQE5ODoxGIzIzM1FeXq5k2kREfmG2CLywOR/CwXPWx17YnA+zxVEEUculE0Ko6l9FQkICXn31VcyYMQMpKSmYO3cunn76aQBATU0NkpKS8Morr+CBBx5w+PqamhrU1NTYfjeZTEhNTUVZWRni4+MDsg1ERN7Y98sF3LN6v9u4v8+8HgOvbBOAjIiUYzKZYDAYJH1/q2Y0k9lsxoYNG3D58mUMHDgQBQUFKC4uxsiRI20xer0ew4cPx969e50uZ/HixTAYDLaf1NTUQKRPROSzkvJq90EexBG1FIoXM4cPH0ZsbCz0ej1mzZqFjRs3IiMjA8XFxQCApKQku/ikpCTbc47Mnz8fZWVltp/Tp0/7NX8iIrkkxkXKGkfUUig+mqlbt27Iy8vDpUuX8Mknn2DatGnIzs62Pa/T2Q9FFEI0e6wxvV4PvV7vt3yJiPylf3oCkg2RKC6rdnjfjA6A0dAwTJuI/kvxMzMRERHo3Lkz+vbti8WLF6NXr154/fXXYTQaAaDZWZiSkpJmZ2uIiIJBaIgOC8ZlAGgoXBqz/r5gXAbnmyFqQvFipikhBGpqapCeng6j0YisrCzbc7W1tcjOzsagQYMUzJCIyH9G9UjGysm9YTTYX0oyGiKxcnJvzjND5ICil5meeeYZjB49GqmpqSgvL8eGDRuwc+dObNu2DTqdDnPnzsWiRYvQpUsXdOnSBYsWLUJ0dDQmTpyoZNpERH41qkcyMjOMnAGYSCJFi5nff/8dU6ZMQVFREQwGA3r27Ilt27YhMzMTAPDUU0+hqqoKDz30EC5evIgBAwZg+/btiIuLUzJtIiK/Cw3Rcfg1kUSqm2dGbp6MUyciIiJ10OQ8M0RERETeYDFDREREmsZihoiIiDSNxQwRERFpGosZIiIi0jQWM0RERKRpLGaIiIhI01jMEBERkaaxmCEiIiJNk62YuXTpklyLIiIiIpLMq2LmlVdewccff2z7/a677kKbNm3Qvn17/Pjjj7IlR0REROSOV8XMu+++i9TUVABAVlYWsrKysHXrVowePRpPPvmkrAkSERERueJV1+yioiJbMfP555/jrrvuwsiRI5GWloYBAwbImiARERGRK16dmWndujVOnz4NANi2bRtuvvlmAIAQAmazWb7siIiIiNzw6szMnXfeiYkTJ6JLly64cOECRo8eDQDIy8tD586dZU2QSC5mi8CBglKUlFcjMS4S/dMTEBqiUzotxfF9kU9tvQUf7SvEydJKdEqIxpSBaYgI826cRVWtGYu25KPwQiXS2kTjmTEZiIoIlTlj8sXZ0iqMfiMbl2vMiNGHYuvs4WifEKV0WgGjpu3XCSGEpy+qq6vD66+/jtOnT2P69Om47rrrAADLly9HbGws7rvvPtkT9ZbJZILBYEBZWRni4+OVTocUsu1IEV7YnI+ismrbY8mGSCwYl4FRPZIVzExZfF/ks3hLPlbvLoCl0SdqiA6YOTQd88dkeLSsmR/mICu/pNnjmRmJWD21n6+pkgy6PrsFtebmX58RoToce3mMAhkFViC235Pvb6+KmV27dmHQoEEIC7M/sVNfX4+9e/di2LBhni7Sb1jM0LYjRXhwXS6aHujWcw8rJ/dukV/cfF/ks3hLPt7dVeD0+QeGSS9onBUyVixolOfsi9wq2AuaQG2/J9/fXp3/vOGGG1BaWtrs8bKyMtxwww3eLJLIL8wWgRc25zf7wgZge+yFzfkwWzyu6TWN74t8austWL3beSEDAKt3F6C23uJ2WVW1ZpeFDABk5Zegqpb3JirlbGmVyy9yAKg1C5wtrQpQRoGl1u33qpgRQkCna35N/cKFC4iJifE5KSK5HCgotbuE0pQAUFRWjQMFzYvzYMb3RT4f7SuEu5rPIhri3Fm0JV/SOqXGkfxGv5Eta5zWqHX7PboB+M477wQA6HQ6TJ8+HXq93vac2WzGoUOHMGjQIHkzJPJBSbnzL2xv4oIF3xf5nCytlC2u8IK0ZUmNI/ldrpF2VkxqnNaodfs9KmYMBgOAhjMzcXFxiIr6713LERERuP766zFz5kx5MyTyQWJcpKxxwYLvi3w6JUTLFpfWJhq7j7tfVlobaesk+cXoQ2Gqdv9FHaMPzpFnat1+j4qZ999/HwCQlpaGP/3pT7yk5GccMuuas/en8eNtY/Qwxkfid1O1w/tDdACMhobXSlV8qRq3vrkLpup6xEeG4fNHh8HYyrcvfUfbUlpRizve3oPSy3VIiAnHxoeGoF28HhXV9Xjs4x9w6mIVOraOwmt3X4fYyOb/lF0N7e2fnoBkQySKyxy/L1bT3tuPL+eOQHpiy/i3vvPQ75i+/nvb72sn9sWInkkuXzNlYBpe3nLU5aWmEF1DnDvPjMnAR/tPSYpTs2Vb8vDGrrO232cPa4/Hx1yrXEIy2jp7OAYv3SEpLhipdfu9Gs2kJVodzcQhs645e39u65WMTT8W2T3eKjoclyrroAPsvri9GbVz1fNbUVXX/EbOqPAQHH1ptBdb4nhbmuZqFaKDwy/Nnh3isemRobbfpQzt3XakCLPW5UrKMUQH/Lp4rKRYrUqb94XT5wqXuN52jmb6L1/eR63gaKYgGc30+++/Y8qUKUhJSUFYWBhCQ0Ptfsg31iGzTW/QLC6rxoPrcrHtSJFCmamDs/enqKwa7+4qaPZ4WWUdAMAQHW73uNEQKUshAwBVdRZc9fxWqZtg42xbnH1MOPvr/9AZE25bsRuA6y/DrPwSzPwwBwDw1D8PSc7TIoAr5jv/ktI6V1/AUp7/9fxln55v7LtfXd907e55Jfn6PmqFlNE8wUyN2+/VDMDTp0/HqVOn8PzzzyM5OdnhyCbyjrshszo0DJnNzDC2yEtOrt4fZ6zvW2RYCP523wCcr6jx+LJd8aVqp4WMVVWdBcWXqiVfcvJmW1w5dMaEc6YaSUN7T52vhKm63qPlWwRQUHI56C457Tz0u+Q4R5ecPBlO7W4G33OmGrf7xVRdj3OmGrSL17uMC7RlW/Ikx2n5ktNXudL+mPwqtwg39w6+s+jTVkgrSKet+AIfPBK4M3FenZnZs2cP/va3v+HBBx/E+PHjcfvtt9v9kPc4ZNY1d++PMwJAsakGITodbr+2PQZe2cajYvDWN3fJGgd4vy2u3PH2Hklxo173btikt69Ts8b3yHgTJ+dwaqn7T2pcIDW+R0aOOLW67x/SLs1KjdOa7DPyxsnFq2ImNTUVQX6rjWI4ZNY1X7fb29dLPYvhydkOf+zD0st1kuLcnWVypibIT597Q87h1FL3n9Q4opbCq2Jm+fLlmDdvHgoLC2VOhzhk1jVft9vb18c7GC3kS5wvubiSEBPuPggNNyx7Qx/a8i5tuiN1mLSUOKn7T2ocUUvh1Sfa3XffjZ07d+LKK69EXFwcEhIS7H7Ie9Yhs86+MnRoGLXjyVDiYOLu/XHG1/ft80el9RuTGgd4vy2ubHxoiKS4bXO8Gzbp7evUbO3Evj7FSR0mLSVO6v6TGhdIs4e1lzVOrf56V29Z47RmeAd54+Ti1Q3Ay5cvlzkNsgoN0WHBuAw8uC7X6VDiBeMyWuTNv4Dr98cZOd43Y6tIRIWHuLw8ExUe4tF8M95siys9O8SjXbwemRmJbof2dmwbjfjIMI8ui4XoEHQ3/wJouKl3vcQ4B6IiQiW95+5u/gWAdvF6t/slPjJMdTf/AsDjY66VdD+Mlm/+BdBwU+8/JMYFoQ8eGStpVFogb/4FOM+ManGeGdc8mWdGzveN88wEL1/nR5HynkvVc+GXDgua+MgwHFp4i0fLCrSWMM8M0HK205lAbL8n39+SixmTyWRbmMlkchmrpqJBq8UMwBmA3ZEyA7A/3rdgmAHYbBEY8soOt6OpIkLAGYDdzADcmKv33FPnTDUO978WBPMMwI19lVtkN2rpr3f1DtozMo5MW/GF3ail4R3kPSPjl2ImNDQURUVFSExMREhIiMO5ZazdtM1m9TTY0nIxQ+Qv+365gHtW73cb9/eZ12PglW0CkBERkT1Pvr8l3zOzY8cO282933zzjW8ZEpGiOAUAEQUTycXM8OHDHf4/EWkPpwAgomDi1WgmALh06RLee+89HD16FDqdDhkZGZgxYwYMBoOc+RGRH7jrmu1NN3EiIqV4Nc/M999/jyuvvBKvvfYaSktLcf78eSxbtgxXXnklcnODcwpnomBiHRYOoNk8N5wCgIi0xquh2UOHDkXnzp2xevVqhIU1nNypr6/Hfffdh19//RW7dknvT+NvvAGYyDlOAUBEauWX0UyNRUVF4YcffkD37t3tHs/Pz0ffvn1RWSmtV0kgsJghco1TABCRGvllNFNj8fHxOHXqVLNi5vTp04iLi/NmkUSkkNAQHYdfE5Gmed2b6d5778XHH3+M06dP48yZM9iwYQPuu+8+3HPPPXLnSEREROSUV2dm/t//+38ICQnB1KlTUV/fMOV2eHg4HnzwQSxZskTWBImIiIhc8aiYqaysxJNPPonPPvsMdXV1GD9+PB555BEYDAZ07twZ0dHuW9wTERERycmjYmbBggVYu3YtJk2ahKioKKxfvx4WiwX/93//56/8iIiIiFzyqJj59NNP8d5772HChAkAgEmTJmHw4MEwm80IDfWumRoRERGRLzy6Afj06dMYOnSo7ff+/fsjLCwMv/32m+yJEREREUnhUTFjNpsRERFh91hYWJjtJmAiIiKiQPPoMpMQAtOnT4der7c9Vl1djVmzZiEmJsb22KeffipfhkREREQueFTMTJs2rdljkydPli0ZIiIiIk95VMy8//77/sqDiIiIyCtezQBMREREpBYsZoiIiEjTWMwQERGRprGYISIiIk1jMUNERESa5lXXbKKWzGwROFBQipLyaiTGRaJ/egJCQ3RKp0VE1GIpemZm8eLF6NevH+Li4pCYmIjx48fj559/tosRQmDhwoVISUlBVFQURowYgZ9++kmhjKml23akCENe2YF7Vu/HnA15uGf1fgx5ZQe2HSlSOjUiohZL0WImOzsbDz/8MPbv34+srCzU19dj5MiRuHz5si1m6dKlWLZsGVasWIGcnBwYjUZkZmaivLxcwcypJdp2pAgPrstFUVm13ePFZdV4cF0uCxoiIoXohBBC6SSszp07h8TERGRnZ2PYsGEQQiAlJQVz587F008/DQCoqalBUlISXnnlFTzwwANul2kymWAwGFBWVob4+Hh/bwIFKbNFYMgrO5oVMlY6AEZDJPY8fSMvORERycCT729V3QBcVlYGAEhISAAAFBQUoLi4GCNHjrTF6PV6DB8+HHv37nW4jJqaGphMJrsfIl8dKCh1WsgAgABQVFaNAwWlgUuKiIgAqKiYEULg8ccfx5AhQ9CjRw8AQHFxMQAgKSnJLjYpKcn2XFOLFy+GwWCw/aSmpvo3cWoRSsqdFzLexBERkXxUM5rpkUcewaFDh7Bnz55mz+l09qfthRDNHrOaP38+Hn/8cdvvJpOJBQ35LDEuUta4pjwZIVVbb8FH+wpxsrQSnRKiMWVgGiLCVPN3SYvGkW4tyzlTDe54ew9KL9chISYcGx8agnbxeqXTCpjSilpMWLUXJeW1SIyLwIb7ByEhNkKRXFRRzDz66KPYtGkTdu3ahQ4dOtgeNxqNABrO0CQnJ9seLykpaXa2xkqv10OvbzkHEwVG//QEJBsiUVxWDUc3mVnvmemfnuDxsrcdKcILm/PtLmMlGyKxYFwGRvVItotdvCUfq3cXwNIoiZe3HMXMoemYPybD43WTfDzZj6R9PRd+CVN1ve33yktm9Fv0FeIjw3Bo4S0KZhYY/f6chXMVtbbfL1XVofefs9AuNgI5z2UGPB9F/5wTQuCRRx7Bp59+ih07diA9Pd3u+fT0dBiNRmRlZdkeq62tRXZ2NgYNGhTodKkFCw3RYcG4hmKh6d/Z1t8XjMvw+K9wT0ZILd6Sj3d32RcyAGARwLu7CrB4S75H6yb5cKRby9K0kGnMVF2Pngu/DHBGgdW0kGnsXEUt+v05y+Fz/qRoMfPwww9j3bp1WL9+PeLi4lBcXIzi4mJUVVUBaLi8NHfuXCxatAgbN27EkSNHMH36dERHR2PixIlKpk4t0KgeyVg5uTeMBvtLSUZDJFZO7u3xX99mi8ALm/MdnumxPvbC5nyYLQK19Ras3l3gcnmrdxegtt7iUQ7kO0/2I2nfOVON00LGylRdj3OmmgBlFFilFbVOCxmrcxW1KHUTIzdFLzOtXLkSADBixAi7x99//31Mnz4dAPDUU0+hqqoKDz30EC5evIgBAwZg+/btiIuLC3C2RA0FTWaGUZb7IjwZIZX/W1mzMzJNWQTw0b5C3Dv0Co9zIe95sh8HXtkmcImRX9zxdvP7Op3F7Zl3k5+zCbwJqxyPJHYUt/3xEf5NphFFixkpU9zodDosXLgQCxcu9H9CRBKEhuhk+VLyZITUydJKSbFS40g+HOnWspRerpM1TmtKyqWdcZEaJxcOgSBSiCcjpDolREuKlRpH8vH3SDdSl4SYcFnjtCYxTtpoJalxclHFaCaSnxxDRJUcLixl3c5iPH3cU6fOV2LU69moqrMgKjwE2+YMR8e29kVEVa0Zi7bko/BCJdLaROOZMRmIigi1i3E3QsrqntX7EQogRAeXl5p0OqBrYhzMFoHQEB0O/noRf2h0SviT+wehzxWtm72u6fDKeTd2x4wNB23P/+O+gejf2fNRWlq0I6/YbtvXTOiDG681unyNv0a6ff7daTyy8ZDt9xV39MStA7QxzcQ/9vyKpz4/avt96a1X4a4hwXH5c+NDQ9Bv0VeS4oLRhvsHobeEG3w33B/YQTqqamfgDy2xnYEcQ0R9HS4cooPXw4WlrNtZzG29krHpxyLJj3s6bLbzM1/A0T22YSHAiUVjAQAzP8xBVn5Js5jMjESsntqv2bbOWpcref1SJBsiXd7DUbhkrO3/XY1KcPW6YJQ27wunz7nbdnf78R0PbxD3JRelaTl3qVyNZgIQ9MOz3X1uyDU825PvbxYzQcY6RLTpTrWef5Ay6saTZViHCzvzwDDPChop6wbgMMZTnrwngPNCxiosBLihe6LDQsaqaUFz24rdOHQm8C03CpeM9aiQafy6YOTqC9jK1bZf9fxWVNU5PziiwkNw9KXRAclFSVrO3RMtZTudCdT2a7Y3E/lGjiGiSg4XlrLuhZt+wsJNjmM85cmw2VPnK10WMgBQb4HLQgZoeL6q1gwAqKiuV6SQAYCdh373uJABgAMngq/31I48x61RpMYVX6p2WcgAQFWdBcWX3N8A/Pl3pyXlIjUukP6x51dZ49Rq/7ELssZpzdpvfpY1Ti4sZoKIHM0QPVnGR/sKJQ8XlkLKuotNNSg2yTcqRGqDyFGvZ8u2zkX/mdzusY9/kG2Znpq+/nuvXnfXX/fJnInyGt8j403crW/ukvR6KXGN75GRIy6QGt8jI0ecWk1Ys1/WOK1Z+OUJWePkwmImiMgxRFTJ4cJKDl11t253f3l7ovBCw/tx6mKVbMsk5bibQM3TOCLyHIuZICLHEFElhwsrOXTV3bqjwuX7p5LWpuH96Ng6SrZlknLiI6UNCpUaR0SeYzETRKxDRJ0NNtahYaSLqyGinixjysA0uBvZHKIDpgxMc5+8xHUb4/UwxjuP8ZSU9wQAts0ZLtMagWf+c0P0a3dfJ9syPbV2Yl+vXveP+wbKnIny1kzo41Pc548Ok/R6KXEr7ugpaVlS4wJp6a1XyRqnVhtmXC9rnNYsvKWzrHFyYTETRORohujJMiLCQjBzaDpcmTk0XfJ8M1LWvfC2q7HwNscxnvKkQWTHttFwtxlhIQ2jlVzJzEi0zTcTGxmGnh2UGWE3omcS2sV6PqlVMM43424eGXdxxlaRbs/cRYWHwNjK/ZlHqfPIqHG+GanzyGh9vpnru0qb/VtqnNZMv6GbrHFyYTETZORohujJMuaPycADw9KbnaEJ0Xk+LFvqup3FJBsi8cCwdCRLfNzTBpEnFo11WtBY55lZPbWf04LG0Twzmx4ZKntB03Q7m7IOmcx5LtOjgiaYh5q62zZ3zx99abTTgsaTYdly5KIkLefuiZaync6ocfs5z0yQ4gzA6p8BuLGK6no89vEPOHWxCh1bR+G1u69D8aVqjH4jG3UWIDwE2Dp7ODobY1F8qRq3vrkLpup6xEeG4V8PD8Wpi5XNtoszAHvOmxmAG2u6bz5/dJikMzKOcAZg9dt/7ILdqKUNM64P2jMyjqz95me7UUsLb+ks6xkZTprXSEstZoiIiLSMk+YRERFRi8GxgqRqcl0aCmZ8j9RDzn3h6aVKokBT0zHKy0ykWnI0zAx2fI/UQ8594UmzUiIlBOIY5WUm0jxrw8mm7Q2Ky6rx4LpcbDtSpFBm6sH3SD3k3BfOviSAht5eMz/M8SlXIl+p8RhlMUOqI0fDzGDH90g95NwXVbVmj5qVEgWaWo9RFjOkOnI0zAx2fI/UQ859YW1CKlcckdzUeoyymCHVkaNhZrDje6Qecu4LaxNSueKI5KbWY5TFDKmOHA0zgx3fI/WQc19Ym5DKFUckN7UeoxyaHQR8mS3XOrSu4HwlosJDMDIjCR0SYtA/PQFmi5A8q6+cM5/2T0+AMT4SxSbHf8nq0NCKoE+n1tj3ywXJMxSvzD6G93YXotZsQWqraHz8wCAkeNGfSMq2ni2twug3snG5xowYfSi2zh6O9gnOu2Q7iq+orseYN3fBLIBQHbDl0WHolhKHE8UVmPrefqfLsr5HraMjcM/q/8atm9ofQzLaNYs9cKIUd/11n+33pbdeZTd762ezBuPatFZu3pXg4M1xbG2QWlxW7fC+Gevx6q6ZKdDQhPSj/ackxanZZ/tOYu6/jth+X357D4wf2EnBjPwjr/ASxr/zre33lvBvRa3HKIdma5yU4aDOYtrFReDQGZPD5UZHhKKqzozGR0eIrqFxZNN+S1c9vxVVdZZmy/C0J43V4i35WLWrwOkXAwDcPywdm34skjQMdvGWfLy7q8DhutrFRiDnuUzJuUnZ1q7PbkGtuXn2EaE6HHt5TLPHncX7S+O+KWnzvvDqdcHIl+N425EizFqX6/T5dzzoAeZqpAig/uHZro6pYDqGWsp2OhKoY5TtDBoJ5mLGOhy06Q60fuGvnNwbABzG+KJxA0lnXwBWnhY0rgoPAIjRh2LygI4Oi53G22394nC3PEB6QSNlW80W4bIwaVrQBLqQsSpcMtajQqbx64KRr8exu/3orJB1RMp+Uet+0HLunmgp2+lMoLaf88y0AFKGgy7c9BMWbnIc44vVuwtQW29B8aVql18AAFBV1xAnRW29Bat3uy48LteY8a+8IknDYGvrLW4LGQA4V1GL0opalzFSt9VdYVJrFjhbWgWg4dKSEoUM0NAgzht5hZfkTUQFfD2OpezHxvvdlR15xW5jPIkLpM/2nZQ1Tq2k/hsIxn8rALDz0O+yxsmFxYxGSRkOWmyqcXrfiS8sAvhoXyFufXOXpHipcR/tK4SUaVFcbVPjYbAf7SuUtF4AmNCou7QjUrdBitFvZNv9VwmNO916ovH9AcHC1+NY6n6UEte4Y7cccYHU+B4ZOeLUSuq/gWD8twIA09d/L2ucXFjMaJTSQ25PllbCVF0vKVZq3MlS+YbylZRXe7S8knLXZ2akboMUl2vMdv8lZfl6HEvdj9zfRP7DYkajlB5y2ykhGvGR0gbDSY3rlCDfUL7EuEiPlpcY53pUk9RtkCJGH2r3X1KWr8ex1P3I/U3kPyxmNMo6HNRZP14dAGO8HsZ45zHeCtEBUwam4fNHh0mKlxo3ZWAa3DUYbtgu19ud/J9hsFMGpklaLwBsuH+Qy+elboMUW2cPt/uvEhbe0tmr1302a7DMmSjP1+NY6n6UErdmQh9Jy5IaF0jLb+8ha5xaSf03EIz/VgBg7cS+ssbJhcWMRoWG6LBgXMOIoqZf7NbfF952NRbe5jjGFzOHpiMiLATGVpGICnd9CEWFh0iebyYiLAQzh6a7jLl/WLrTbbL+vmBcBkJDdIgIC8EDw1wvD2gYzeRuvhmp2xoR6vqdjgjV2eabaZ8Q5TbeX6bf0M2r1wXjHBq+HsdS9mPj/e7Kjdca3cZ4EhdIUueR0fp8M1L/DQTjvxUAGNEzSdY4ubCY0bBRPZKxcnJvGA32H7JGQ6RteLKzmGRDJHp2cD7ULToiFLomn88hOvth2QBw9KXRTr8IvJlnZv6YDDwwLL3ZGZrG65ay3U2X54wn88xI2dZjL49x+sXmaHiuq3h/sQ6Z9HToZDAPNfX1OPZ0v7vi7n1W837Qcu6eaCnb6Ywat5/zzASBYJsBGGgYpu1u3VK2u/HygmkG4NFvZKPO0vD47JHp2HX0IipqzOiYEIXX7r4OsZFh2JN/DpM/PGBbB2cAds/X49jT/e7Kjrxiu1FLayb0UeUZGUc4A3DLsPPQ73ajltZO7CvrGRlOmtdISyhmiIiIgg0nzSMiIqIWg8UMERERaRq7ZlOL4ck9Nmom93YEy/uiBlLu9ZJKy/tFy7mTNrGYoRZBSndxLZB7O4LlfVGDxVvysXp3gV1Ljpe3HHXYad4dLe8XLedO2sUbgCnoSekuroUPWbm3I1jeFzVw15296ZQGrmh5v2g5d1If3gBM9B9Suotbu2yrmdzbESzvixpI6fZu7TTvjpb3i5Zz95bZIrDvlwv4V95Z7PvlQlBtm9awmKGgJqW7uLXLtprJvR3B8r6ogZRu79ZO8+5oeb9oOXdvbDtShCGv7MA9q/djzoY83LN6P4a8sgPbjhQpnVqLxGKGgprU7uJKdyF3R+7tCJb3RQ2kdmeXEqfl/aLl3D1lvZzWtHgrLqvGg+tyWdAogDcAa5CcIwVczQBcVWvGYx//gFMXq9Cx9X9nlrXmsPf4eXzywxlU1ppxbaoBZ0urcOpSFdLaROOZMRmIivC+S7B1G8+UXsb2/N9RVWdBelv75VZU1zvMr/GIEqm3hHnShbzxDLzhIQ0NBDsbY+1iDp8qw21v74FAw/0Cmx4agms6Gpwus7SiFhNW7UVJeS0S4yKw4f5BDbPRrtgNC6T31nprx3GM6JoIQ3Q4Dv56EX9Ytdf23Cf3D0KfK1p7tL2PbchD98R4dEuJk5iBtnkzA7DU7uxS4qTuF0+O10DRcu6ecHc5TYeGy2mZGcagH8Hl7xmAPcEbgDVGzpECMz/MQVZ+icPnwkJ0qHdw7rxnh3g8NKIzHv/Hj6isNbtcfmZGIlZP7edRToDjbWy63N9N1Th0xtTsuXaxEbhwudbtaf/Gkg2R2PP0jZI+eNLnfeHwQ0wHoOA//UjS5n3h9PWOepb0+3MWzlXUSk3XZ4VLxsJsERjyyg6XlwUcvS6YXfX8VlTVNb+vxV1vptp6C7o/v9XlMReiA/790mi3w7Sl7BdPjtdA0nLuntj3ywXcs3q/27i/z7weA69sE4CMlOHp55w3eANwkJLz1KarQgaAw0IGAA6dMWHWuly3hQwAZOWXYOaHOZJzApxvY9PlOipkAOBchWeFDADUmy0+FTJAw19k6fO+cPkPHGj+ARDoQsaaQ2iIzqNCxvq6YOWskAGAqjoLrnp+q9PXRoSFSLpnRsp8M1L2S1FZtSqLAS3n7omWdDnNGU8/5wKBxYxGyDlSoKrW7LKQkVNWfgmqJBQ+gOtt9KdzFbUoq6xzGXOiuMJtXlLzPnyqDEDDpaVAFzJWH+485tXrfv6tXOZMlFd8qdppIWNVVWdB8SXHX05S3xMpcSeKKyQtS2pcIG05cEbWOLWqqpb2eSY1Tmt2Hvpd1ji5sJjRCDlHCizaki9jZu5JXZ+7bfSnGWsPuHx+9BvZsq3rtrf3AAAmNLqfJdD+d9txr1435s1dMmeivFslbpOzOKnviZQ4qceZnMejXB769EdZ49Rq/meHZY3Tmsb3yMgRJxcWMxoh56nNwgvSRl/IRer6lDwt+5ubIsrNH+4esZ7BKSlX5qyML8xBeIedqbrepzip74mUOKnHmZzHI3lG6j+BIPynomosZjRCzpECaW2kjb6Qi9T1KTnKIcXget3hMv5Lsd4xkBgXId9CAyRU27c7OBQfKW1Qp7M4qe+JlDipx5mcxyN5Rupbz10UWHy/NaJ/egKSDZFOh+jq0DBSoH96gttlPeNhnxhfSV2fdRuVsGZ6f5fPb509XLZ1bXpoCABgw/2DZFump14c1cWr1215dJjMmSjvc4nb5CxO6nsiJU7qcSbn8SiXt+/sJWucWn3+yFBZ47Rm7cS+ssbJhcWMRoSG6LBgXENR0LSgsf6+YFyGpJECURGhyMxIlDdBJzIzEiXPN2PdxkD/8d+pTRQM0eEuYzobY93mJTVv63wzCbERaBerzNmZqSO6evW6YJxvxtgqElFuTnVEhYc4nW9G6nsiJU7qcdZ0XiM1GNO/g6xxapXRQdoUH1LjtEbqPDKBnm+GxYyGjOqRjJWTe8PY5OyF0RDpcQO31VP7uSxowpwURT07xOOdyb0RLaFA8WaeGes2ujpD06lNlMtleFoMzR99laS4giVjXZ4ZK1gy1u38Ck2ff2l8D0nrlpM1B0/nggjmeWaOvjTaaUHjbp4ZAHhncm+fnm9MynGmVnK+D2rm6b/zYKPG7eekeRrUkmcA/tPI7rjupe1u5/V4ZnR3nLlUhdTWUXhvTyGKTY5v8NWhoRj0ZCIvuWYA9mTiuhA0nLbO6BCPn38rx5g3d9luKG0XAdSEhCI6IgztW0VhzfT+bmcAbmxP/jlM/vC/o7mW3noV5n9xFGbRcJ/HlkeHBeUZGUe8mQHY3X705hgDpB1nauKv90HN8s+YbLN0N/432lL4ewZgT76/WcyQpry3+1e89MVRt3HPj70K9w69QtWzdao5N5KO+7EB3weSG2cApqDlaVM/Nc/WqebcSDruxwZ8H0hJLGZIUzxt6qfm5ndqzo2k435swPeBlMSu2X7m6P4WALbHWkWGI+vo7zhZWmm71yQiLAQHCkpRbKpGaUUNEmIiYDREoU+n1vj253P4y9fHUFZVh27GOPzv2KsxY+1+nLlUg4iwEHRKiIRFAHH6UFTWCfxy7jIgBPqntcLjmRn447vfosYsoA/VYduc4UhPjAEAu07TnRKiMWVgGkJDdNj0w1k8+c8fUS+AiBDgy7kjkJ4Y0+x6/lt3XodZ//yh2bVjR9uff8Zku5+ksfXTB2BQ97YAgLLKOsxYewC/FF+CqRbQ6QB9WAgqJc4W9tIXR/HyF0dxdUockuL1KDHVOG0QaXQwpN3RtfB28Xrc8fYenGk0rb2ze0p25BVjxoaDtt/XTOiDG6812sVYh6IXl1U7nWArVAfMeP8A2sRGYONDQ9AuXm93P05TbWPCbfd5bNj9C+Z98W/bc0vGdseEoVc2e01e4SWMf+db2+8zrm+HNfvP2X5/cVQXr0c/aY0396m424/OjjF3pBxDauKv90HNtHZfk9w27T+F2Y1mOn5j/DW47fqOiuSi6D0zu3btwquvvoqDBw+iqKgIGzduxPjx423PCyHwwgsvYNWqVbh48SIGDBiAt956C1dffbXkdSh5z4yj7s+t/jME+JKLXkD6sBDU1Admis8QHTBzaDpW7y6wu6lWB3lmsEw2RHrcoqBTmyicvFAlw9qleafJSDBvm6QVetE1e9uRIsxal+vV+rzVOAdPtjXYR2hI6YjujLv92PQYcycQHYn9Qe73Qc18OV6CAbtmN3L58mX06tULK1ascPj80qVLsWzZMqxYsQI5OTkwGo3IzMxEebn6m9056/58qbLOZSEDIGCFDNDQzffdXQXNRgfJVeF602spkIUMALy984Tt/33p9prmRdfsh/4W2EKmcQ6ebmswd82W0hHdlcc+zvPp+cbU2JFYKneFeaALd3/x9XjROjUeo4oWM6NHj8af//xn3Hnnnc2eE0Jg+fLlePbZZ3HnnXeiR48e+OCDD1BZWYn169crkK10SnV/Ju8cOmNCRXU98s+YArK+HXnFAICCkstuh5j7y5LNB90HOeBtt201k9oR3Vmnal+7bjdmPTbkigukPfnn3Ad5EKdWvh4vWrdp/ylZ4+Si2huACwoKUFxcjJEjR9oe0+v1GD58OPbudd5tuKamBiaTye4n0JTs/kzeeezjH3Drit0BWZf1PohRryvX+fidb737MvS227aa+dqp2teu2401vkdGjrhAajxXkRxxaqXlzuZymC2xG7jUOLmotpgpLm74sE1Ksp+AJykpyfacI4sXL4bBYLD9pKam+jVPRzj0UHtOXaxCoBsR1wRjC2oN8rVTta9dt0lb2NlcnVRbzFjpdPYzRQohmj3W2Pz581FWVmb7OX36tL9TbIZDD7Xn5+LA3oe175cLCFX9v76WwddO1b523SZtYWdzdVLt2200NgxBbHoWpqSkpNnZmsb0ej3i4+PtfgLNXYdratkiAdyzej/MCv7lNmuwd0N8ve22rWa+dqr2tet2Y2sm9JG0LKlxgbRuquvO857GqZWWO5vL4Y3x18gaJxfVFjPp6ekwGo3IysqyPVZbW4vs7GwMGjRIwczcs3Z/5kUEckQNFyHnjfPuyzAY55vxtVO1r123G5M6j4wa55sZktFO1ji10nJnczlInUcm0PPNKFrMVFRUIC8vD3l5eQAabvrNy8vDqVOnoNPpMHfuXCxatAgbN27EkSNHMH36dERHR2PixIlKpi1JZoYRraLClU6DAqhQQtdsNWDX7OZ87VTta9ftxtTYkVgqLefuCS13NpeDGvezopPm7dy5EzfccEOzx6dNm4a1a9faJs1799137SbN69Gjh+R1KDVpntSma+SeDg2T+3kyAzDQUKm3ig5HqZt5feTS+B9w09lbnxx1BV7d9mtA8nCGMwC75+uMrt503XZGazMAN9a0E/u6qf01f0bGEc4A7N8ZgNk1uxGlipl/5Z3FnA15AVtfMHt9wrW4/dr2AKS/r9bXTHnvO+w+ft7PGTZw9deIUsfD1IGd8OLt0ot/IiK10MwMwMGMI5rk0/i99LSZXVobaY0p/U1q3qEy3zUutTEnEZGWcaygH5gtAvVmC2IiQnG51qx0OprX+HLd+ukD3DZnbPwauYsDZ+bdlGb3+5YDZ/DQpz/afl9xR09Jecs59YwODQ03X/riKADnp4CbXmaaNdhoN6mes8tTwcjXywZnS6sw+o1sXK4xI0Yfiq2zh6N9QpRXuci5rEBz1Kg1o0PgR5b6W2lFLSas2ouS8lokxkVgw/2DkBAboXRaAaOm/czLTDLbdqQI8z497Lb/EgUfKY0mrbWVkv/o2GjSMV8bB3Z9dgtqHVSjEaE6HHt5jEe5yLmsQNNqk0xP9ftzFs5V1DZ7vF1sBHKey1Qgo8BSW6NJFjMyUqIDMmmPN53E5Va4ZKxXzeCC6cuoMVeNAwH3BY2z4sPKkyJEzmUFmpRjKhiOIWeFjFWwFzSB2s+8Z0YBZovAwk0/KZ0G+SgQw+mfvbEr/j7zeszJ7OT3dTnzxrZDXr1uw+5fZM5Eeb42DjxbWuWy+ACAWrPA2VL33eDlXFagSW3UGqiGrv5SWlHrspABgHMVtSh1E6NVat3PLGZkcqCgFMWmGqXTIC9Nub4j/j7zelyq8v/lwUc2HsLAK9vg9ayTfl+XM8t2etfmY94X/5Y5E+X52jhQzsaDWm5iKLVRa6AauvrLhFXOGx17E6c1at3PLGZkwuaS2lZ4oZL7sIXytXHg5RppN/lLiZNzWYEmdQYorfdfLCmXdsZFapzWqHU/s5iRCYdia1tam2juwxbK18aBMfpQSa+XEifnsgJN6peJ1r90EuOkjVaSGqc1at3PWj+uVKN/egKM8Xql0yAvPTMmI2ANQt++sxcA4JP7lesx9viIVK9et2Rsd5kzUZ6vjQPlbDyo5SaGnz8yVNY4tdog8d+t1Dit+ddDQ2SNkwuLGZmEhuiw8LarlU6DvJCZkYioiFBbg1AAfi1oxvTvAADoc0VrP67Ftdmjenr1umCcb8bXxoHtE6IQ4WZCo4hQnaQ5YuRcVqBJnV9E6/PNJMRGoJ2buWTaxUYE7XwzFXX1ssbJhcWMjEb1SMY7k3ujVbTrETExEaHIzEhESIAmdHMmEKt39154y12XYqkyMxKxemo/2++jeiRj5eTeMBo8v+QkpdFk0+eVGKZqXec7k3t79bpg5GvjwGMvj3FahHg6lFrOZQWaGhsQ+kPOc5lOC5pgH5Yt9d7CQN+DyHlm/MBsEdj/ywXs+/U8LBbgUlUtzpVXI0Yfjj/07oBBndsiNESH2noLPtpXiJOlleiUEI2JAzoh9+RF7DlxDu/vLUS1mzsTE+MiMHVAJyS3isKlqjrERYYjK78YVXVmJMWH48fT5ThfUYNYfRgmD+yIv+4qwOUaM9rERmDjQ0PQLl6Psso6zFh7AGcvVfk0GmtwWiv8u+QyymvqERkegidu6YrObePxxP/9iGKTfAf1hhnX4/qubQA4buoHACOWfA3rGsNCgG2zhyMhNgJ3vbsXp0orERKiw9hrEvHn8dciKsLxvQdmi8CBglKUlFcjPjwMf/v+FE5frELH1lGY1i/NroneJ/cPanaWpekMwG/f2ct2RsaRg79exB9kHP2gA2CICrcbndV4BmCzRWDIKzskzXfDGYA5A7Cn1DQzrD+1xBmAdx87hylrDriN+2hGfwzt6ltzUU6a14hSjSZ9IbXj9t9nXo+BV7YJ6Do9yUGuzuFTru+Il8Zf4/NytOC93b/a2g+4MuX6jvho/ym3cc72jxLHGBFp3+pdv+DlLe6naHh2THfMHObbH0GcNE/jlDiN5+2yXL1Orvy+P3lRluVowcnSSklxhRekxTnbB2o9VUxE6nb6orQJG6XGyYXFjAp52hk6kOv05HVy5XfyQiXMlqA+gWgjtcu11G7gzvaBEscYEWmf1M8oqXFy4WUmGdTWW/DB3gLkFF5EZFgILtfWo7KmDucv1yEUwO/lNQgN0cFoiMIjIzoj62gRNh8qhtki0C42DOkJUcg9U2GbxtyTHdK1TSSOXZD213MItD9hVWP3De2Ef+ScQXWdxXbPTEV1PW5e/t/ZUWMjQvHl3OEwtorEtsPFmPfpj6iqM8MQGYYvZg9HVa0Zo17PRo1ZQB+qw7Y5w9GxbTT+uuMXLP7qZ9tyJvZORcGFcuw7ealZHo3v47Hak3/O7r6adVP7Y0iG8+vHP/9WjjFv7pKta7YOQHxkGMqq/zuiYOmtV+GuIVcA+O89M+66eAPA8tt7YPzATrbXWe8lSoyLRP/0BIQqfSe7jApKLjc7HtITYyS//pypBne8vQell+uQEBNuuzfNG9b72X4rq0aKIRJrpveHwU831MvN0f1sxlbBVxhXVNfjsY9/wKn/3E/32t3XITYyTOm0/Kq23oLuz2+Fq78vQ3TAv18ajYgw386X8J6ZRvxdzCzeko9VuwoU7YJM6iCla7aj0RzeNHz0hTUHTxujvjO5N17YnG9303CyIRILxmVgVI9k2fMMtCvmf+HwAzpEB/y62P0onJ4Lv4Spuvlw1PjIMBxaeItHuQx/dQdOXmh+mr5TmyhkP3mjR8sKtKue34oqB4MXosJDcPSl0Qpk5B+3rdiNQw76D/XsEI9NGp9Lx53FW/Lx7q4Cp88/MCwd88dk+LweFjON+LOYcbdDiRxpXNAEupBpnIMc67aek1k5ubemCxpnhYyVu4LGWSFj5UlB46yQsVJzQeOskLEKloLGWSFjFewFDbtmB5HaegtWsZAhL+zJPweg4dKSUpZv/dF9kATW7/8XNudr9r6mgpLLLgsZALCIhjhHzplqXBYyAGCqrsc5CVMflFXWuSxkAODkhSqUVfq/Iaqnii9VuyxkAKCqzoLiS9q+qbyiut5lIQMAh86YUOHmmNAqqZ9bgf58YzHjpY/2FfLSEnnFei/NmDd3KZbD8uwzsi1LACgqq8aBglLZlhlIo16X1oHaWdwdb++R9HopcTPWup+/w5O4QLpV4vEsNU6tHvv4B1njtEbq51agP99YzHhJ6hBaImfkutlXLbQ6jLtG4o5wFld6WdpZEilxv0mYxNCTuEByd3bK0zi1OiVxyLHUOK2R+rkV6M83FjNeCvSwMwo+blrwaI5Wh3HrJe4IZ3EJMdJGGEmJS5HYRkNqXCDFSxzFIzVOrTq2ljYLs9Q4rZH6uRXozzcWM16aMjAtIL2NKPism9ofALDlP+0XlDB3uPPWCp7SoWFUU//0BNmWGUjb5kjrQO0sbqPE7sBS4tZM7y9pWVLjAulzicez1Di1eu3u62SN0xqpn1uB/nxjMeOliLAQ3JyRqHQapEHW+Wa6pcQplsPc0b28el3TAt76+4JxGZqdb0bqPDLO4trF692ebYiPDJM034whOhyd2rj+i75TmyhVzjcjdR4Zrc83ExsZhp5u+kz17BAftPPNSP3cCvTnG4sZL5ktAkfOur6jnciR0opa2/8r1UX4nKnGq3W3adJEz2iI1Pyw7Kpas89xhxbe4rSg8XSemewnb3Ra0Kh5WHbj41qOODXb9MhQpwVNsA/Lrq23wN3fLSG6hrhA4jwzXpLaqK9DKz0u15hRU29GZV1Qv9UBZ50B2FQt7csorVU4LlRZnM4AHB4CuBlZKouuiTHY/vgIu8fkngHYnQ6tIrFn3k22dd/yhrSRBzoA62deH1QzAD//2WFJTTulNDxtyTMAj1y2E8ecDF9vzNHxr1UtcQZgqc1wnx97Fe4deoVP6/Lk+zu433U/kjpyo6LGgiV/6Im9v1zAh/tO+jkrdUo2RGLf/IYvzn/lncWcDXk+La9VVDjyFowEADw3tgcGLv7ablZaZ2pEKA6/MLLZ4z+/PEa23KQoKW/+l2m3lDj8snis5G3xVeORNZ6cDhZA0HXRltq0U0pcu3i9rUj0lSE6HJ88NFiWZQWCo+PalzgtiI0Mw+pp/ZROI6CkjuQN9IhfXmbyktSRG5eq6vDgulxU1mh7OKIvGo+8kGPES2Kc/aUOuUaABGo0TtP8GwvUKJWmI2ukfhAE4weG1KadUuNaKlfHtTdxpE5sNKkQf11msjbqC8Rf0cEkBA1/3fty0CXFRaBD62gsGt8Tk97bh7LqetRJuD5z2zVGbMv/HWaLQFJcBP71yDBEhIXYTuUnGyJx6nw5zldKu2zlrdznMpHQ5N6T/ccuYMIa95ct5ZLzzM22yx/Fl6oxavlOXJJwuW7LI0OR4ebmR62pqjXjqv/d5jbu6IujEBUR6nZZi7bko/BCJdLaROOZMRluX+PMieIKjH4jG3UWIDwE2Dp7ODobY71aViCUVtSi95+z3MY5Ov61qrSiFhNW7UVJeS0S4yKw4f5BQbNtzqi10SQvM3kpNESHHu3jWcx4SI5bUn4vr8Xv5bWS7/Ow2nS42Pb/v5lq0W/RV3bP+7ovw0KA1tEROOfiBsd2sRHNPuwC3Z+p8cgad710mgq2QgYAoiJCkZmRiKz8EqcxmRmJbouSmR/m2C1j93Hgo/2nkJmRiNVTPbsUkT7vC7uCv84C3Lw8GzoABQrdNO5OQmwE2sV6fvxrVb8/Z9lt66WqOvT+cxbaxUYg57lMBTPzr4iwEMwcmu6yL+HMoek+FzKeCsazxgGxeEu+yw8/annqLXD5QQ40f16JRpPWGVg9LWSC2Z7j5316vmkh01hWfglmfpgjOZemhUxj4j/Pq1VZletZjt09rxVNC5nGzlXUop+EM1Ra9v63hT497w8sZrxQW2/B6t1sMkneOXCioYfR/mMXFMthW85ZrwqZnYd+90M2yvK1QWJVrdntHzZZ+SWShoCfKK5wewlW/CdObc6WVqHWzeXeWrPA2VJtT/NfWlEr6Y+WYBiC7oha9zOLGS98tK/QbZddImfu+us+AAjoPTJNzfokz6vXTV//vbyJqICvDRIXbcmX9HopcaPfkNb0UmpcIGk5d09MWLVX1jitUet+ZjHjBTaZJAoevjZIlHNot9STZWq8Oni5RtqN81Lj1KolDkFvTK37mcWMF9hkkih4+NogUc6h3eESP5GlxgVSjF7aqC2pcWrV0oegq3U/q/CfhPpNGZjmdjpnImf+cd9AAMCGGdcrlsM7f7jWq9etndhX3kRUwNcGic+MyZD0eilxW2dLa3opNS6QtJy7JzbcP0jWOK1R635mMeMF69A0Im/079zQXfr6rsrNpDuqX3tEefHn/YieSX7IRlnGVpFu34uo8BCnDRKtQ7tdkTK0GwA6G2ObNfNsSvefOLVpnxCFiFDX2UeE6tA+wXUjTbWzDkF3JZiGoDel1v3MYoZIJvGRYZI+5Bp7Z3Jvf6bkkHX6h6MvjfaooHHXzVnLEt30T3L3/Oqp/ZwWNJ7OM1OwZKzTgkbN88wAwP83OM2n57Ui57lMp//Wg32eGQB4457rfHreHzhpnhc4NJsckXIjqXXIZkJsBMwWgRc2SxsJI6d6C3DqfCU6to3G0ZdGo/hSNca+sQsXKl3PAXLyQhXKKutU3ezQG2WVdTh5wfUwUinbvnpqP9lmAC5YMlZzMwBL+VxcvbsAT4zsHvAJ1fwh57nMFjkDsLvPLR2AFzbnIzPDGNAmtCxmvMCh2eSLCav2YvvjI3CgoFSxGaRHvZ6N/JdGA2i4zJLWNgYXTl1y+7oZaw9oqvmhFDPWHpAc527boyJC3XbWlqqzMRbHF6n3LExTUj4XLaIhztduymqREBsRNB3ApXL3uSXQMJv6gYLSgDal1X55rAAOzSZfWIdsSu287g9NJ4n7TWJRJTVOS1rytstJrd2USV5SP7cC/fnGMzNe4NBs8oV1yGagunQ70vhemRPFFZLPEAWqq3cgpRgiJW2/lG2Xs9HkOVMN7nh7D0ov1yEhJhwbHxpi66mlRmrtpuxPZZV1tka1KYZIrJneP+guwzYl9XMr0J9vLGa8kBgffB/oFDjWIZv90xOQLPGLVG7b5jQMm3TVB8iRNdP7+ychBa2Z3h+9XtwuKc4VORtN9lz4pd09WJWXzOi36CvER4bh0MJbPFpWoEwZmIaXtxx12015ysC0gOXkT8Nf3WF3r1VRWTV6vbgdndpEIfvJGxXMzL+kfG4lGyLRPz0hgFnxMpPHth0pwqN//0HpNEjDrDcIhobocE6hS00d20Z7XMgACMq/OqVuk6s4ORtNNi1kGjNV16Pnwi8lLyuQIsJCkOpmOG5qQlRQ3PzbtJBp7OSFKgx/dUeAMwqc0BAdLlW6nt34UmVtQG/+BVjMeMRsEfjfzw4rnQZpnLXR5NnSKtQrNC39jrxijwsZAMgrvCR3KoqT2hDPWZycjSbPmWrcjoozVdfjnKnG7bICrarWLGlUmJT3Qc08Gf0WjM6ZaiQ1Zg30McpixgMHCkpRUhGcBygFjrXRpJIN92ZsOOjV68a/863MmSjP18Z5cjaavOPtPZKWJTUukOR8H9TMk9FvwUitxyiLGQ8oOfqEgo/WG+4FC18b58nZaLL0srQ/lqTGBZKc74OatfTRb2o9RlnMeEDJ0ScUfLTecC9Y+No4T85Gkwkx0u7fkRoXSHK+D2omdURfMI78A9R7jLKY8UD/9AQkxqrvQ4S0xdpoUsmGe2sm9PHqdZ/NCq4J8wDfG+fJ2Why40NDJC1Lalwgyfk+qJnUEX3BOPIPUO8xymLGA6EhOrwo0+ye1HJZG01KadjmDzoAN15rdNvQ0JFr01rJnI3yfG2cJ2ejyXbxesRHup4xIz4yTJXzzcj5PqiZITrcbZ+yTm2ignLkH6DeY5TFjIc+yT2jdAoURAI9fBGAbRRTqIf/+hVIVTOO/V7u0/ONpbV1fRnG3fNKkjKqKxh0TYrz6XmtG3CF6zlk3D3vDyxmPCBlCCaRO9bhzcWXqt0OcfSXHXnFHg8LtwigoOSyfxJS0NnSKtSaXQ9UrzULp0Oz5RyqW1Fdj0NnTC5jDp0xoUJCU9NA+/k3aQWb1Di1knMovhapdftZzHhA60MKSR2sw5tvfXOXYjl4OzR71OvKDSf3F1+HZss5VPexj6VNyCk1LpDGSDyepcapVUsZgu6MWrefxYwHtD6kkNTF3eRoalTj5gyGFvk6NFvOobqnLkqbwE9qXCBJPTS0fgi1lCHozqh1+1nMeEDrQwpJXdzdRKdGegVuWPY3X4dmyzlUt2Nr1zeWehoXSFIPDa0fQi1lCLozat1+FjMe0PqQQlKHT+4fhH2/XMDDN16hWA7eDs22NqgMJp8/MsynODmH6r5293WSliU1LpC2PCrtfZQap1YtZQi6M2rdfk0UM2+//TbS09MRGRmJPn36YPfu3YrkERURij6dWimybgoej3yci3tW78cLm39WLIcbrzXC035/ITogPTHGPwkp6GyZxN5MTuLkHKobGxmGnh3iXcb07BCPWBWe1euWIm0Ej9Q4tWopQ9CdUev2q76Y+fjjjzF37lw8++yz+OGHHzB06FCMHj0ap06dUiSfgycvKbJeCh5FKpnm3JvRTMFIapsSV3FSRjNJJWU0EymrpQxBd0aN26/6YmbZsmW49957cd999+Gqq67C8uXLkZqaipUrVwY8l7R5XwR8nUT+4O2x3DsI/w38PSvPp7gtB6TNPSUl7ql/SGvOJzUukKa/Je3YkBqnVut3nZA1TmtWfSVtlJLUOLmoupipra3FwYMHMXLkSLvHR44cib179zp8TU1NDUwmk90PEcmjVOkE/GD/Bd/iHvr0R0mvlxL3j9wyScuSGhdIO0/LG6dWz2yRdnlYapzWLPqqQNY4uai6mDl//jzMZjOSkpLsHk9KSkJxcbHD1yxevBgGg8H2k5qaGohUiYiISCGqLmasdDr7sXxCiGaPWc2fPx9lZWW2n9OnNf5nABEREbmk6mKmbdu2CA0NbXYWpqSkpNnZGiu9Xo/4+Hi7HyKSR+A7rvjfqC7SPgadxb19Zy9Jr5cSd1dvg6RlSY0LpBEST4JLjVOrRWO6yRqnNc/cnC5rnFxUXcxERESgT58+yMrKsns8KysLgwYNCng+hUvGBnydFHzUMGeYt8dybhD+G3jn3tE+xY3p30HS66XELb1riKRlSY0LpLUPSzs2pMap1cRhnWWN05r7b5Y2f4zUOLmoupgBgMcffxx//etfsWbNGhw9ehSPPfYYTp06hVmzZimSDwsacqZwyVi3x8c7k3vDKHHGWH+x5ujpsRzMx767bfP38/5aVqBpOXdPtJTtdEaN26/6Yubuu+/G8uXL8eKLL+Laa6/Frl27sGXLFnTq1EmxnIL9QNWqiX1b48VRXZo9Pu+mNCy/vUezx8dl6DHvprRmsf9vnOd/UTQ+JgqXjEW3JnOadQtreHxUj2TsefpG/H3m9Xh9wrX4+8zr8cuiMfjDtfYTif3h2jikNFlHyn+WPdjoOpd1U/ujcMlYxDZ5PBbNj93CJWPRw83M+AkOXheMCpeMbXYpaVSXEMnbXrhkbLNLSW/f2cur965wydhml5Lu6m3QxH4oXDK22aWkEanBdwwVLhnb7FLSojHdgm47nSlcMrbZpaRnbk5XbPt1QoggnQqrgclkgsFgQFlZGe+fISIi0ghPvr9Vf2aGiIiIyBUWM0RERKRpLGaIiIhI01jMEBERkaaxmCEiIiJNYzFDREREmsZihoiIiDSNxQwRERFpGosZIiIi0rQw9yHaZp3g2GQyKZwJERERSWX93pbSqCDoi5ny8nIAQGqqxvvOExERtUDl5eUwGAwuY4K+N5PFYsFvv/2GuLg46HQ6WZdtMpmQmpqK06dPt7i+Ty1524GWvf0tedsBbn9L3v6WvO1A4LdfCIHy8nKkpKQgJMT1XTFBf2YmJCQEHTp08Os64uPjW+SBDbTsbQda9va35G0HuP0teftb8rYDgd1+d2dkrHgDMBEREWkaixkiIiLSNBYzPtDr9ViwYAH0er3SqQRcS952oGVvf0vedoDb35K3vyVvO6Du7Q/6G4CJiIgouPHMDBEREWkaixkiIiLSNBYzREREpGksZoiIiEjTWMx46e2330Z6ejoiIyPRp08f7N69W+mUAmLx4sXo168f4uLikJiYiPHjx+Pnn39WOi1FLF68GDqdDnPnzlU6lYA5e/YsJk+ejDZt2iA6OhrXXnstDh48qHRafldfX4/nnnsO6enpiIqKwhVXXIEXX3wRFotF6dT8YteuXRg3bhxSUlKg0+nw2Wef2T0vhMDChQuRkpKCqKgojBgxAj/99JMyyfqBq+2vq6vD008/jWuuuQYxMTFISUnB1KlT8dtvvymXsIzc7fvGHnjgAeh0Oixfvjxg+TnDYsYLH3/8MebOnYtnn30WP/zwA4YOHYrRo0fj1KlTSqfmd9nZ2Xj44Yexf/9+ZGVlob6+HiNHjsTly5eVTi2gcnJysGrVKvTs2VPpVALm4sWLGDx4MMLDw7F161bk5+fjL3/5C1q1aqV0an73yiuv4J133sGKFStw9OhRLF26FK+++irefPNNpVPzi8uXL6NXr15YsWKFw+eXLl2KZcuWYcWKFcjJyYHRaERmZqatF57Wudr+yspK5Obm4vnnn0dubi4+/fRTHDt2DLfddpsCmcrP3b63+uyzz/Ddd98hJSUlQJm5Ichj/fv3F7NmzbJ7rHv37mLevHkKZaSckpISAUBkZ2crnUrAlJeXiy5duoisrCwxfPhwMWfOHKVTCoinn35aDBkyROk0FDF27FgxY8YMu8fuvPNOMXnyZIUyChwAYuPGjbbfLRaLMBqNYsmSJbbHqqurhcFgEO+8844CGfpX0+135MCBAwKAOHnyZGCSChBn237mzBnRvn17ceTIEdGpUyfx2muvBTy3pnhmxkO1tbU4ePAgRo4caff4yJEjsXfvXoWyUk5ZWRkAICEhQeFMAufhhx/G2LFjcfPNNyudSkBt2rQJffv2xf/8z/8gMTER1113HVavXq10WgExZMgQfP311zh27BgA4Mcff8SePXswZswYhTMLvIKCAhQXF9t9Bur1egwfPrxFfgYCDZ+DOp2uRZyltFgsmDJlCp588klcffXVSqdjE/SNJuV2/vx5mM1mJCUl2T2elJSE4uJihbJShhACjz/+OIYMGYIePXoonU5AbNiwAbm5ucjJyVE6lYD79ddfsXLlSjz++ON45plncODAAcyePRt6vR5Tp05VOj2/evrpp1FWVobu3bsjNDQUZrMZL7/8Mu655x6lUws46+eco8/AkydPKpGSoqqrqzFv3jxMnDixRTSffOWVVxAWFobZs2crnYodFjNe0ul0dr8LIZo9FuweeeQRHDp0CHv27FE6lYA4ffo05syZg+3btyMyMlLpdALOYrGgb9++WLRoEQDguuuuw08//YSVK1cGfTHz8ccfY926dVi/fj2uvvpq5OXlYe7cuUhJScG0adOUTk8R/AxsuBl4woQJsFgsePvtt5VOx+8OHjyI119/Hbm5uarb17zM5KG2bdsiNDS02VmYkpKSZn+pBLNHH30UmzZtwjfffIMOHToonU5AHDx4ECUlJejTpw/CwsIQFhaG7OxsvPHGGwgLC4PZbFY6Rb9KTk5GRkaG3WNXXXVVi7jx/cknn8S8efMwYcIEXHPNNZgyZQoee+wxLF68WOnUAs5oNAJAi/8MrKurw1133YWCggJkZWW1iLMyu3fvRklJCTp27Gj7DDx58iSeeOIJpKWlKZobixkPRUREoE+fPsjKyrJ7PCsrC4MGDVIoq8ARQuCRRx7Bp59+ih07diA9PV3plALmpptuwuHDh5GXl2f76du3LyZNmoS8vDyEhoYqnaJfDR48uNkw/GPHjqFTp04KZRQ4lZWVCAmx/7gMDQ0N2qHZrqSnp8NoNNp9BtbW1iI7O7tFfAYC/y1kjh8/jq+++gpt2rRROqWAmDJlCg4dOmT3GZiSkoInn3wSX375paK58TKTFx5//HFMmTIFffv2xcCBA7Fq1SqcOnUKs2bNUjo1v3v44Yexfv16/Otf/0JcXJztrzODwYCoqCiFs/OvuLi4ZvcGxcTEoE2bNi3inqHHHnsMgwYNwqJFi3DXXXfhwIEDWLVqFVatWqV0an43btw4vPzyy+jYsSOuvvpq/PDDD1i2bBlmzJihdGp+UVFRgRMnTth+LygoQF5eHhISEtCxY0fMnTsXixYtQpcuXdClSxcsWrQI0dHRmDhxooJZy8fV9qekpOCPf/wjcnNz8fnnn8NsNts+BxMSEhAREaFU2rJwt++bFm7h4eEwGo3o1q1boFO1p+xgKu166623RKdOnURERITo3bt3ixmaDMDhz/vvv690aopoSUOzhRBi8+bNokePHkKv14vu3buLVatWKZ1SQJhMJjFnzhzRsWNHERkZKa644grx7LPPipqaGqVT84tvvvnG4b/zadOmCSEahmcvWLBAGI1GodfrxbBhw8Thw4eVTVpGrra/oKDA6efgN998o3TqPnO375tSy9BsnRBCBKhuIiIiIpId75khIiIiTWMxQ0RERJrGYoaIiIg0jcUMERERaRqLGSIiItI0FjNERESkaSxmiIiISNNYzBAREZGmsZghIlVLS0vD8uXLlU4j4EaMGIG5c+e6jCksLIROp0NeXl5AciJSKxYzRAG0d+9ehIaGYtSoUUqnohk5OTm4//77Jcfv3LkTOp0Oly5d8l9SKpGamoqioqIW0RuMyBUWM0QBtGbNGjz66KPYs2cPTp065dd1mc3moOjq3K5dO0RHRyudhixqa2tlXVZoaCiMRiPCwvzXM7iurs5vyyaSC4sZogC5fPky/vGPf+DBBx/ErbfeirVr19qeGzhwIObNm2cXf+7cOYSHh+Obb74B0PDl9dRTT6F9+/aIiYnBgAEDsHPnTlv82rVr0apVK3z++efIyMiAXq/HyZMnkZOTg8zMTLRt2xYGgwHDhw9Hbm6u3br+/e9/Y8iQIYiMjERGRga++uor6HQ6fPbZZ7aYs2fP4u6770br1q3Rpk0b3H777SgsLHS6vdYzJF988QV69eqFyMhIDBgwAIcPH7aL++STT3D11VdDr9cjLS0Nf/nLX+yeb3qZSafT4a9//SvuuOMOREdHo0uXLti0aROAhssuN9xwAwCgdevW0Ol0mD59OgDgn//8J6655hpERUWhTZs2uPnmm3H58mWfct+7dy+GDRuGqKgopKamYvbs2XbLTEtLw5///GdMnz4dBoMBM2fOdLi+y5cvY+rUqYiNjUVycnKz98DZshpfZrJYLOjQoQPeeecdu9fl5uZCp9Ph119/BQCUlZXh/vvvR2JiIuLj43HjjTfixx9/tMUvXLgQ1157LdasWYMrrrgCer0ebOFHqqdwo0uiFuO9994Tffv2FUI0dJ9OS0sTFotFCCHEm2++KTp27Gj73fpY+/bthdlsFkIIMXHiRDFo0CCxa9cuceLECfHqq68KvV4vjh07JoQQ4v333xfh4eFi0KBB4ttvvxX//ve/RUVFhfj666/FRx99JPLz80V+fr649957RVJSkjCZTEIIIcxms+jWrZvIzMwUeXl5Yvfu3aJ///4CgNi4caMQQojLly+LLl26iBkzZohDhw6J/Px8MXHiRNGtWzennaOt3XevuuoqsX37dnHo0CFx6623irS0NFFbWyuEEOL7778XISEh4sUXXxQ///yzeP/990VUVJRdF/amXXkBiA4dOoj169eL48ePi9mzZ4vY2Fhx4cIFUV9fLz755BMBQPz888+iqKhIXLp0Sfz2228iLCxMLFu2TBQUFIhDhw6Jt956S5SXl3ud+6FDh0RsbKx47bXXxLFjx8S3334rrrvuOjF9+nS73OPj48Wrr74qjh8/Lo4fP+5wfQ8++KDo0KGD3bpiY2PtOrI7Wpa1g/MPP/wghBDiiSeeEEOGDLFb9hNPPCEGDhwohGjodj148GAxbtw4kZOTI44dOyaeeOIJ0aZNG3HhwgUhhBALFiwQMTEx4pZbbhG5ubnixx9/tDsuidSIxQxRgAwaNEgsX75cCCFEXV2daNu2rcjKyhJCCFFSUiLCwsLErl27bPEDBw4UTz75pBBCiBMnTgidTifOnj1rt8ybbrpJzJ8/XwjRUMwAEHl5eS7zqK+vF3FxcWLz5s1CCCG2bt0qwsLCRFFRkS0mKyvLrph57733RLdu3ey+1GpqakRUVJT48ssvHa7HWhBs2LDB9tiFCxdEVFSU+Pjjj4UQDQVaZmam3euefPJJkZGRYfvdUTHz3HPP2X6vqKgQOp1ObN261W69Fy9etMUcPHhQABCFhYUu3xtPcp8yZYq4//777V63e/duERISIqqqqmy5jx8/3uW6ysvLRUREhMN1NS1mmi6raTGTm5srdDqdbTvNZrNo3769eOutt4QQQnz99dciPj5eVFdX2y3nyiuvFO+++64QoqGYCQ8PFyUlJS7zJlITXmYiCoCff/4ZBw4cwIQJEwAAYWFhuPvuu7FmzRoADfeFZGZm4m9/+xsAoKCgAPv27cOkSZMANFwqEEKga9euiI2Ntf1kZ2fjl19+sa0nIiICPXv2tFt3SUkJZs2aha5du8JgMMBgMKCiosJ2z87PP/+M1NRUGI1G22v69+9vt4yDBw/ixIkTiIuLs607ISEB1dXVdut3ZODAgbb/T0hIQLdu3XD06FEAwNGjRzF48GC7+MGDB+P48eMwm81Ol9l4G2NiYhAXF4eSkhKn8b169cJNN92Ea665Bv/zP/+D1atX4+LFiy7zdpf7wYMHsXbtWrv9ccstt8BisaCgoMD2ur59+7pcxy+//ILa2lqH62rK3bKuu+46dO/eHX//+98BANnZ2SgpKcFdd91ly7miogJt2rSxy7ugoMBuP3bq1Ant2rVzuS4iNfHfXWNEZPPee++hvr4e7du3tz0mhEB4eDguXryI1q1bY9KkSZgzZw7efPNNrF+/HldffTV69eoFALBYLAgNDcXBgwcRGhpqt+zY2Fjb/0dFRUGn09k9P336dJw7dw7Lly9Hp06doNfrMXDgQNvNqEKIZq9pymKxoE+fPrZiqzFvvvSs63O0biHh/ozw8PBmy3N1s3NoaCiysrKwd+9ebN++HW+++SaeffZZfPfdd0hPT/cqd4vFggceeACzZ89uFtOxY0fb/8fExLhcnpTtlbosAJg0aRLWr1+PefPmYf369bjlllvQtm1bW87Jycl291pZtWrVyqP1EKkJz8wQ+Vl9fT0+/PBD/OUvf0FeXp7t58cff0SnTp1sBcL48eNRXV2Nbdu2Yf369Zg8ebJtGddddx3MZjNKSkrQuXNnu5/GZ1Qc2b17N2bPno0xY8bYbrQ9f/687fnu3bvj1KlT+P33322P5eTk2C2jd+/eOH78OBITE5ut32AwuFz//v37bf9/8eJFHDt2DN27dwcAZGRkYM+ePXbxe/fuRdeuXZsVbVJFREQAQLMzOzqdDoMHD8YLL7yAH374AREREdi4caPXuffu3Rs//fRTs/ejc+fOthyk6Ny5M8LDwx2uyxsTJ07E4cOHcfDgQfzzn/+0nd2z5lxcXIywsLBmOVsLHiItYjFD5Geff/45Ll68iHvvvRc9evSw+/njH/+I9957D0DDX8O33347nn/+eRw9ehQTJ060LaNr166YNGkSpk6dik8//RQFBQXIycnBK6+8gi1btrhcf+fOnfHRRx/h6NGj+O677zBp0iRERUXZns/MzMSVV16JadOm4dChQ/j222/x7LPPAvjvWYhJkyahbdu2uP3227F7924UFBQgOzsbc+bMwZkzZ1yu/8UXX8TXX3+NI0eOYPr06Wjbti3Gjx8PAHjiiSfw9ddf46WXXsKxY8fwwQcfYMWKFfjTn/7k8fts1alTJ+h0Onz++ec4d+4cKioq8N1332HRokX4/vvvcerUKXz66ac4d+4crrrqKq9zf/rpp7Fv3z48/PDDyMvLw/Hjx7Fp0yY8+uijHuUbGxuLe++9F08++aTdukJCvPt4Tk9Px6BBg3Dvvfeivr4et99+u+25m2++GQMHDsT48ePx5ZdforCwEHv37sVzzz2H77//3qv1EamCkjfsELUEt956qxgzZozD56w3ph48eFAIIcQXX3whAIhhw4Y1i62trRX/+7//K9LS0kR4eLgwGo3ijjvuEIcOHRJCNNwAbDAYmr0uNzdX9O3bV+j1etGlSxfxf//3f81uqj169KgYPHiwiIiIEN27dxebN28WAMS2bdtsMUVFRWLq1Kmibdu2Qq/XiyuuuELMnDlTlJWVOdw26020mzdvFldffbWIiIgQ/fr1a3aD8j//+U+RkZEhwsPDRceOHcWrr75q97yjG4CtNyZbGQwGuxFQL774ojAajUKn04lp06aJ/Px8ccstt4h27doJvV4vunbtKt58802HeXuS+4EDB0RmZqaIjY0VMTExomfPnuLll192mrsz5eXlYvLkySI6OlokJSWJpUuXiuHDhze7AbjpspreAGz11ltvCQBi6tSpzdZlMpnEo48+KlJSUkR4eLhITU0VkyZNEqdOnRJCNNwA3KtXL7c5E6mJTghOIEBE9r799lsMGTIEJ06cwJVXXunVMnbu3IkbbrgBFy9etLsfQwu0nDtRS8QbgIkIGzduRGxsLLp06YITJ05gzpw5GDx4sNeFDBFRILGYISKUl5fjqaeewunTp9G2bVvcfPPNDmehJSJSI15mIiIiIk3jaCYiIiLSNBYzREREpGksZoiIiEjTWMwQERGRprGYISIiIk1jMUNERESaxmKGiIiINI3FDBEREWna/w9BqgTL/hP4CwAAAABJRU5ErkJggg==",
>>>>>>> upstream/main
      "text/plain": [
       "<Figure size 640x480 with 1 Axes>"
      ]
     },
     "metadata": {},
     "output_type": "display_data"
    }
   ],
   "source": [
    "# Write your own code\n",
    "\n",
<<<<<<< HEAD
    "plt.scatter(x = results_merge[\"mean_points\"], y = results_merge[\"points\"])\n",
    "plt.ylabel(\"points\")\n",
    "plt.xlabel(\"Average points per driver\")\n",
    "\n",
    "\n"
=======
    "plt.scatter(x = results_merge[\"mean_points\"],y = results_merge[\"points\"])\n",
    "plt.ylabel(\"Points\")\n",
    "plt.xlabel(\"Average points per driver\")"
>>>>>>> upstream/main
   ]
  },
  {
   "attachments": {},
   "cell_type": "markdown",
   "metadata": {},
   "source": [
    "<font size = \"5\">\n",
    "\n",
    "Try it yourself!\n",
    "\n",
    "- Merge the \"teamrace_agg\" data into \"results\"\n",
    "- This time use the option:\n",
    "\n",
    "$\\qquad$ ```on = [\"raceId\",\"constructorId\"]```"
   ]
  },
  {
   "cell_type": "code",
<<<<<<< HEAD
   "execution_count": 17,
=======
   "execution_count": 22,
>>>>>>> upstream/main
   "metadata": {},
   "outputs": [],
   "source": [
    "# Write your own code\n",
    "\n",
    "results_merge_teamrace = pd.merge(results,\n",
<<<<<<< HEAD
    "                         teamrace_agg,\n",
    "                         on = [\"raceId\",\"constructorId\"],\n",
    "                         how = \"left\")\n",
    "\n",
    "\n",
    "\n",
    "\n",
=======
    "                                  teamrace_agg,\n",
    "                                  on = [\"raceId\",\"constructorId\"],\n",
    "                         how = \"left\")\n",
>>>>>>> upstream/main
    "\n"
   ]
  }
 ],
 "metadata": {
  "kernelspec": {
   "display_name": "base",
   "language": "python",
   "name": "python3"
  },
  "language_info": {
   "codemirror_mode": {
    "name": "ipython",
    "version": 3
   },
   "file_extension": ".py",
   "mimetype": "text/x-python",
   "name": "python",
   "nbconvert_exporter": "python",
   "pygments_lexer": "ipython3",
   "version": "3.11.1"
  },
  "orig_nbformat": 4,
  "vscode": {
   "interpreter": {
    "hash": "45fc1f684f6f416f40889115beff3ddf69879b64cf4bfee48cb72a61e9d15d1a"
   }
  }
 },
 "nbformat": 4,
 "nbformat_minor": 2
}
